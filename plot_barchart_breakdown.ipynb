{
    "cells": [
        {
            "cell_type": "code",
            "execution_count": 1,
            "source": [
                "''' Required packages. Use python3 -m pip install xxx for all the packages. '''\r\n",
                "from pprint import pprint\r\n",
                "import pandas as pd\r\n",
                "import numpy as np\r\n",
                "from matplotlib import pyplot as plt\r\n",
                "import easypyplot"
            ],
            "outputs": [],
            "metadata": {}
        },
        {
            "cell_type": "code",
            "execution_count": 17,
            "source": [
                "''' [TODO] Figure properties. Specify the csv file and corresponding labels. '''\r\n",
                "csv_path = './sec7/barchart_breakdown.csv'\r\n",
                "workload_list = ['Workload1', 'Workload2', 'Workload3']\r\n",
                "scheme_list = ['Feature1', 'Feature2', 'Feature3', 'Feature4']\r\n",
                "workload_dict = {item: item for item in workload_list}\r\n",
                "scheme_dict = {item: item for item in scheme_list}\r\n",
                "\r\n",
                "fig_title = 'Performance Breakdown'\r\n",
                "fig_name = 'FigDemo'\r\n",
                "fig_ylim = (0, 3.5)\r\n",
                "fig_yticks = list(np.arange(fig_ylim[0], fig_ylim[1], 1))\r\n",
                "fig_bar_colors = [easypyplot.color.COLOR_SET[i] for i in [3, 2, 1, 0]]\r\n",
                "assert len(fig_bar_colors) == len(scheme_dict)\r\n",
                "\r\n",
                "# pprint(fig_yticks)"
            ],
            "outputs": [],
            "metadata": {}
        },
        {
            "cell_type": "code",
            "execution_count": 19,
            "source": [
                "''' Plot parameters. Change only if you want to resize the graph, etc. '''\r\n",
                "fig_bar_width = 0.3\r\n",
                "fig_dims = (5, 2)\r\n",
                "fig_label_fontsize = 9\r\n",
                "# params = {'font.family'      : 'normal',\r\n",
                "#           'font.weight'      : 'normal',\r\n",
                "#           'font.size'        : 22,\r\n",
                "#           'xtick.labelsize'  : 15,\r\n",
                "#         }\r\n",
                "# plt.rcParams.update(params)\r\n",
                "# fig_text_font = 'Times New Roman'"
            ],
            "outputs": [],
            "metadata": {}
        },
        {
            "cell_type": "code",
            "execution_count": 4,
            "source": [
                "''' Load data from file. '''\r\n",
                "csv_hd = pd.read_csv(csv_path, sep=',')\r\n",
                "# TODO assert workload_name\r\n",
                "# TODO assert scheme_name\r\n",
                "fig_xlabels = []\r\n",
                "fig_xticks = []\r\n",
                "fig_data_2darr = []\r\n",
                "xtick = -1\r\n",
                "for idx, row in csv_hd.iterrows():\r\n",
                "    workload_fullname = row[0]\r\n",
                "    if any(workload in workload_fullname for workload in workload_list):\r\n",
                "        row_value = []\r\n",
                "        for col in row.keys():\r\n",
                "            if any(scheme in col for scheme in scheme_dict):\r\n",
                "                row_value.append(row[col])\r\n",
                "        fig_data_2darr.append(row_value)\r\n",
                "        fig_xlabels.append(workload_fullname)\r\n",
                "        xtick += 1\r\n",
                "        fig_xticks.append(xtick)\r\n",
                "assert len(fig_data_2darr) == len(fig_xlabels) == len(fig_xticks)"
            ],
            "outputs": [],
            "metadata": {}
        },
        {
            "cell_type": "code",
            "execution_count": 20,
            "source": [
                "''' Ploting script '''\r\n",
                "pp, fig = easypyplot.pdf.plot_setup(fig_name, fig_dims)\r\n",
                "ax = fig.gca()\r\n",
                "easypyplot.format.turn_off_box(ax)\r\n",
                "\r\n",
                "h = easypyplot.barchart.draw(\r\n",
                "    ax, fig_data_2darr,\r\n",
                "    width=fig_bar_width,\r\n",
                "    breakdown=True,\r\n",
                "    group_names=fig_xlabels,\r\n",
                "    xticks=fig_xticks,\r\n",
                "    xticklabelfontsize=fig_label_fontsize,\r\n",
                "    # xticklabelrotation=25, # Uncomment this for rotated x tick labels\r\n",
                "    colors=fig_bar_colors)\r\n",
                "\r\n",
                "''' x axis '''\r\n",
                "ax.set_xlim([ax.get_xticks()[0] - 1, ax.get_xticks()[-1] + 1])\r\n",
                "ax.set_xticks(fig_xticks)\r\n",
                "ax.set_xticklabels(fig_xlabels, fontsize=fig_label_fontsize)\r\n",
                "ax.xaxis.set_ticks_position('none') # Comment this and the next line for visible ticks\r\n",
                "# ax.tick_params(direction='in') # [in, out, inout]\r\n",
                "# ax.set_xlabel(fig_title)\r\n",
                "\r\n",
                "''' y axis '''\r\n",
                "ax.yaxis.grid(True)\r\n",
                "ax.set_ylim(fig_ylim)\r\n",
                "ax.set_yticks(fig_yticks)\r\n",
                "ax.set_ylabel(fig_title, multialignment='center')\r\n",
                "\r\n",
                "''' legend '''\r\n",
                "legend = [scheme_dict[item] for item in scheme_dict]\r\n",
                "fig.legend(h, legend, loc='upper center', bbox_to_anchor=(0.5, 1.1),\r\n",
                "        ncol=len(legend), frameon=False)\r\n",
                "\r\n",
                "''' last resize '''\r\n",
                "plt.tight_layout()\r\n",
                "easypyplot.format.resize_ax_box(ax, hratio=0.8)"
            ],
            "outputs": [
                {
                    "output_type": "display_data",
                    "data": {
                        "text/plain": [
                            "<Figure size 360x144 with 1 Axes>"
                        ],
                        "image/png": "[encoded data removed]"
                    },
                    "metadata": {
                        "needs_background": "light"
                    }
                }
            ],
            "metadata": {}
        },
        {
            "cell_type": "code",
            "execution_count": null,
            "source": [
                "''' Save figures'''\r\n",
                "fig.savefig(fig_name+'.pdf', format=\"pdf\", bbox_inches = 'tight')\r\n",
                "# easypyplot.pdf.plot_teardown(pp) # it generates wierd chopped figures"
            ],
            "outputs": [],
            "metadata": {}
        }
    ],
    "metadata": {
        "orig_nbformat": 4,
        "language_info": {
            "name": "python",
            "version": "3.7.10",
            "mimetype": "text/x-python",
            "codemirror_mode": {
                "name": "ipython",
                "version": 3
            },
            "pygments_lexer": "ipython3",
            "nbconvert_exporter": "python",
            "file_extension": ".py"
        },
        "kernelspec": {
            "name": "python3",
            "display_name": "Python 3.7.10 64-bit ('base': conda)"
        },
        "interpreter": {
            "hash": "b3ba2566441a7c06988d0923437866b63cedc61552a5af99d1f4fb67d367b25f"
        }
    },
    "nbformat": 4,
    "nbformat_minor": 2
}