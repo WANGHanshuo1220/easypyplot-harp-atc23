{
    "cells": [
        {
            "cell_type": "code",
            "execution_count": 20,
            "metadata": {},
            "outputs": [
                {
                    "name": "stdout",
                    "output_type": "stream",
                    "text": [
                        "The autoreload extension is already loaded. To reload it, use:\n",
                        "  %reload_ext autoreload\n"
                    ]
                }
            ],
            "source": [
                "''' Required packages. Use python3 -m pip install xxx for all the packages. '''\n",
                "from pprint import pprint\n",
                "import pandas as pd\n",
                "import numpy as np\n",
                "import matplotlib.font_manager as fm\n",
                "from matplotlib import pyplot as plt\n",
                "import easypyplot\n",
                "# Automatically update if external package code is modified\n",
                "%load_ext autoreload\n",
                "%autoreload 2"
            ]
        },
        {
            "cell_type": "code",
            "execution_count": 21,
            "metadata": {},
            "outputs": [
                {
                    "name": "stdout",
                    "output_type": "stream",
                    "text": [
                        "Expect 3 bars and 4 components within each bar\n"
                    ]
                }
            ],
            "source": [
                "''' Plot knobs. Change only if you want to resize the graph, etc. '''\n",
                "fig_bar_width = 0.25\n",
                "fig_dims = (5, 2)\n",
                "fig_label_fontsize = 9\n",
                "ft = fm.FontProperties('Times New Roman')\n",
                "ft.set_size(fig_label_fontsize)\n",
                "\n",
                "''' [TODO] Figure properties. Specify the csv file and corresponding columns. '''\n",
                "csv_path = './sec7/barchart_breakdown.csv' # TODO: path to the result table, in csv format\n",
                "workload_list = ['Workload1', 'Workload2', 'Workload3'] # TODO: list of all workloads you have used. Each row corresponds with one workload\n",
                "scheme_list = ['Feature1', 'Feature2', 'Feature3', 'Feature4'] # TODO: list of all schemes in the breakdown. Each column corresponds with one scheme\n",
                "workload_dict = {item: item for item in workload_list} # Change the mapping if you want a different figure label text instead of the csv column name\n",
                "scheme_dict = {item: item for item in scheme_list}\n",
                "\n",
                "fig_title = 'Performance Breakdown' # TODO: figure title, shown as y-axis label\n",
                "fig_name = 'FigDemo' # TODO: figure name, used as pdf name\n",
                "fig_ylim = (0, 3.5) # TODO: y-axis range. Align with your data\n",
                "fig_yticks = list(np.arange(fig_ylim[0], fig_ylim[1], 1))\n",
                "fig_bar_colors = [easypyplot.color.COLOR_SET[i] for i in [3, 2, 1, 0]] # TODO: choose enough colors for schemes\n",
                "assert len(fig_bar_colors) == len(scheme_dict)\n",
                "\n",
                "print(\"Expect {} bars and {} components within each bar\".format(len(workload_dict), len(scheme_dict)))"
            ]
        },
        {
            "cell_type": "code",
            "execution_count": 22,
            "metadata": {},
            "outputs": [
                {
                    "name": "stdout",
                    "output_type": "stream",
                    "text": [
                        "[[0.463258, 0.814976, 0.770092, 1.12258],\n",
                        " [0.459945, 0.640266, 0.645717, 1.11812],\n",
                        " [0.073403, 0.44018199999999996, 0.349995, 0.845413333]]\n"
                    ]
                }
            ],
            "source": [
                "''' Load data from file. '''\n",
                "csv_hd = pd.read_csv(csv_path, sep=',')\n",
                "# TODO assert workload_name\n",
                "# TODO assert scheme_name\n",
                "fig_xlabels = []\n",
                "fig_xticks = []\n",
                "fig_data_2darr = []\n",
                "xtick = -1\n",
                "for idx, row in csv_hd.iterrows():\n",
                "    workload_fullname = row[0]\n",
                "    if any(workload in workload_fullname for workload in workload_list):\n",
                "        row_value = []\n",
                "        for col in row.keys():\n",
                "            if any(scheme in col for scheme in scheme_dict):\n",
                "                row_value.append(row[col])\n",
                "        fig_data_2darr.append(row_value)\n",
                "        fig_xlabels.append(workload_fullname)\n",
                "        xtick += 1\n",
                "        fig_xticks.append(xtick)\n",
                "assert len(fig_data_2darr) == len(fig_xlabels) == len(fig_xticks)\n",
                "\n",
                "pprint(fig_data_2darr)"
            ]
        },
        {
            "cell_type": "code",
            "execution_count": 23,
            "metadata": {},
            "outputs": [
                {
                    "data": {
                        "image/png": "[encoded data removed]",
                        "text/plain": [
                            "<Figure size 360x144 with 1 Axes>"
                        ]
                    },
                    "metadata": {
                        "needs_background": "light"
                    },
                    "output_type": "display_data"
                }
            ],
            "source": [
                "''' Ploting script '''\n",
                "pp, fig = easypyplot.pdf.plot_setup(fig_name, fig_dims)\n",
                "# ax = fig.gca() # Only used with no subplot mode\n",
                "fig_ax = fig.add_subplot(1, 1, 1) # Knob: plot the first subgraph of a 1x1 grid, i.e., no subplot mode\n",
                "easypyplot.format.turn_off_box(fig_ax)\n",
                "\n",
                "fig_h = easypyplot.barchart.draw(\n",
                "    fig_ax, fig_data_2darr,\n",
                "    width=fig_bar_width,\n",
                "    breakdown=True,\n",
                "    group_names=fig_xlabels,\n",
                "    xticks=fig_xticks,\n",
                "    xticklabelfontsize=fig_label_fontsize,\n",
                "    # xticklabelrotation=25, # Knob: rotated x tick labels\n",
                "    colors=fig_bar_colors)\n",
                "\n",
                "''' x axis '''\n",
                "fig_ax.xaxis.set_tick_params(pad=0) # Knob: distance between x tick label and x-axis\n",
                "fig_ax.set_xlim([fig_ax.get_xticks()[0] - 1, fig_ax.get_xticks()[-1] + 1])\n",
                "fig_ax.set_xticks(fig_xticks)\n",
                "fig_ax.set_xticklabels(fig_xlabels, fontsize=fig_label_fontsize, fontproperties=ft)\n",
                "fig_ax.xaxis.set_ticks_position('none') # Knob: uncomment for visible x ticks\n",
                "# ax.tick_params(direction='in') # Knob: [in, out, inout]\n",
                "# ax.set_xlabel(fig_title) # Knob: the overall x label text\n",
                "\n",
                "''' y axis '''\n",
                "fig_ax.yaxis.set_tick_params(pad=0) # Knob: distance between y tick label and y-axis\n",
                "# easypyplot.format.set_axis_to_percent(fig_ax.yaxis) # Uncomment for y axis tick label in xx% format\n",
                "fig_ax.yaxis.grid(True)\n",
                "fig_ax.set_ylim(fig_ylim)\n",
                "fig_ax.set_yticks(fig_yticks)\n",
                "fig_yticks_label = [\"{:.2f}\".format(item) for item in fig_yticks] # Change for customized y tick label text\n",
                "fig_ax.set_yticklabels(fig_yticks_label, fontproperties=ft)\n",
                "fig_ax.set_ylabel(fig_title, multialignment='center', fontproperties=ft)\n",
                "\n",
                "''' legend '''\n",
                "legend = [scheme_dict[item] for item in scheme_dict]\n",
                "fig.legend(fig_h, legend, loc='upper center', frameon=False, prop=ft,\n",
                "        bbox_to_anchor=(0.5, 1.1),\n",
                "        ncol=len(legend),\n",
                "        columnspacing=1.5, # padding between columns\n",
                "        labelspacing=0, # padding between rows\n",
                "        )\n",
                "\n",
                "''' last resize '''\n",
                "plt.tight_layout()\n",
                "easypyplot.format.resize_ax_box(fig_ax, hratio=0.8)"
            ]
        },
        {
            "cell_type": "code",
            "execution_count": 24,
            "metadata": {},
            "outputs": [],
            "source": [
                "''' Save figures'''\n",
                "fig.savefig(fig_name+'.pdf', format=\"pdf\", bbox_inches = 'tight')\n",
                "# easypyplot.pdf.plot_teardown(pp) # BUG: it sometimes generates wierd chopped pdf figures\n",
                "# fig.savefig(fig_name+'.svg', format=\"svg\", bbox_inches = 'tight', transparent=False) # svg format"
            ]
        }
    ],
    "metadata": {
        "interpreter": {
            "hash": "31f2aee4e71d21fbe5cf8b01ff0e069b9275f58929596ceb00d14d90e3e16cd6"
        },
        "kernelspec": {
            "display_name": "Python 3.6.9 64-bit",
            "name": "python3"
        },
        "language_info": {
            "codemirror_mode": {
                "name": "ipython",
                "version": 3
            },
            "file_extension": ".py",
            "mimetype": "text/x-python",
            "name": "python",
            "nbconvert_exporter": "python",
            "pygments_lexer": "ipython3",
            "version": "3.6.9"
        },
        "orig_nbformat": 4
    },
    "nbformat": 4,
    "nbformat_minor": 2
}
