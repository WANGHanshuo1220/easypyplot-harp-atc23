{
 "cells": [
  {
   "cell_type": "code",
   "execution_count": 11,
   "metadata": {},
   "outputs": [
    {
     "name": "stdout",
     "output_type": "stream",
     "text": [
      "The autoreload extension is already loaded. To reload it, use:\n",
      "  %reload_ext autoreload\n"
     ]
    }
   ],
   "source": [
    "''' Required packages. Use python3 -m pip install xxx for all the packages. '''\n",
    "from pprint import pprint\n",
    "import pandas as pd\n",
    "import numpy as np\n",
    "import matplotlib.font_manager as fm\n",
    "from matplotlib import pyplot as plt\n",
    "import easypyplot\n",
    "# Automatically update if external package code is modified\n",
    "%load_ext autoreload\n",
    "%autoreload 2"
   ]
  },
  {
   "cell_type": "code",
   "execution_count": 12,
   "metadata": {},
   "outputs": [
    {
     "name": "stdout",
     "output_type": "stream",
     "text": [
      "Expect 2 lines and 3 points within each bar\n"
     ]
    }
   ],
   "source": [
    "''' Plot knobs. Change only if you want to resize the graph, etc. '''\n",
    "fig_dims = (4, 2)\n",
    "fig_label_fontsize = 9\n",
    "ft = fm.FontProperties('Times New Roman')\n",
    "ft.set_size(fig_label_fontsize)\n",
    "\n",
    "''' [TODO] Figure properties. Specify the csv file and corresponding labels. '''\n",
    "csv_path = './sec2/rollback.csv'\n",
    "workload_list = ['Rollback Time', 'Invalid Tail Ratio']\n",
    "scheme_list = ['0', '1', '2']\n",
    "workload_dict = {item: item for item in workload_list} # Change the mapping if you want a different figure label text instead of the csv column name\n",
    "workload_dict['Rollback Time'] = 'Segment Changing Count'\n",
    "scheme_dict = {item: item for item in scheme_list}\n",
    "\n",
    "fig_title = '' # TODO: figure title, shown as y-axis label\n",
    "fig_path = './sec2/'\n",
    "fig_name = 'rollback_motivation'\n",
    "fig_ylim = (1, 380000)\n",
    "# fig_yticks = list(np.arange(fig_ylim[0], fig_ylim[1], 10.0))\n",
    "fig_colors = [easypyplot.color.COLOR_SET[i] for i in [1, 0]] # TODO: choose enough colors for schemes\n",
    "FULL_MARKER_SET = ['o', '^', 'v', 's', 'D']\n",
    "fig_marker = [FULL_MARKER_SET[i] for i in [0]] # TODO: choose enough markers for schemes\n",
    "# assert len(fig_colors) == len(workload_dict)\n",
    "# assert len(fig_marker) == len(workload_dict)\n",
    "\n",
    "print(\"Expect {} lines and {} points within each bar\".format(len(workload_dict), len(scheme_dict)))"
   ]
  },
  {
   "cell_type": "code",
   "execution_count": 13,
   "metadata": {},
   "outputs": [
    {
     "name": "stdout",
     "output_type": "stream",
     "text": [
      "array([[2.85000000e+03, 1.27680000e+04, 3.27969000e+05],\n",
      "       [8.38363514e-03, 9.93750000e+00, 8.41166700e+01]])\n"
     ]
    }
   ],
   "source": [
    "''' Load data from file. '''\n",
    "csv_hd = pd.read_csv(csv_path, sep=',')\n",
    "# TODO assert workload_name\n",
    "# TODO assert scheme_name\n",
    "fig_xlabels = []\n",
    "fig_xticks = []\n",
    "fig_data_2darr = []\n",
    "xtick = -1\n",
    "for idx, row in csv_hd.iterrows():\n",
    "    scheme_fullname = str(int(row[0]))\n",
    "    if any(scheme in scheme_fullname for scheme in scheme_list):\n",
    "        row_value = []\n",
    "        for col in row.keys():\n",
    "            if any(workload == col for workload in workload_dict):\n",
    "                row_value.append(row[col])\n",
    "        fig_data_2darr.append(row_value)\n",
    "        fig_xlabels.append(scheme_fullname)\n",
    "        xtick += 1\n",
    "        fig_xticks.append(xtick)\n",
    "fig_data_2darr = np.transpose(fig_data_2darr)\n",
    "assert fig_data_2darr.shape[1] == len(fig_xlabels) == len(fig_xticks)\n",
    "\n",
    "pprint(fig_data_2darr)"
   ]
  },
  {
   "cell_type": "code",
   "execution_count": 14,
   "metadata": {},
   "outputs": [
    {
     "name": "stdout",
     "output_type": "stream",
     "text": [
      "['0', '2000%', '4000%', '6000%', '8000%', '10000%']\n"
     ]
    },
    {
     "name": "stderr",
     "output_type": "stream",
     "text": [
      "<ipython-input-14-c86204fbbb2d>:44: UserWarning: FixedFormatter should only be used together with FixedLocator\n",
      "  rbratio_ax.set_yticklabels(rbratio_yticklabels)\n"
     ]
    },
    {
     "data": {
      "image/png": "[encoded data removed]",
      "text/plain": [
       "<Figure size 288x144 with 2 Axes>"
      ]
     },
     "metadata": {
      "needs_background": "light"
     },
     "output_type": "display_data"
    }
   ],
   "source": [
    "''' Ploting script '''\n",
    "pp, fig = easypyplot.pdf.plot_setup(fig_path + fig_name, fig_dims)\n",
    "# ax = fig.gca() # Only used with no subplot mode\n",
    "fig_ax = fig.add_subplot(1, 1, 1) # Knob: plot the first subgraph of a 1x1 grid, i.e., no subplot mode\n",
    "rbratio_ax = fig_ax.twinx()\n",
    "easypyplot.format.turn_off_box(fig_ax, twinx_axes=rbratio_ax)\n",
    "\n",
    "fig_h = []\n",
    "np_data_2darr = np.array(fig_data_2darr)\n",
    "rbtime_data_2darr = np_data_2darr[0]\n",
    "rbratio_data_2darr = np_data_2darr[1]\n",
    "rbtime_workload_list = workload_list[0]\n",
    "fig_h += fig_ax.plot(fig_xticks, rbtime_data_2darr,\n",
    "            marker='*',\n",
    "            markersize = '7.0',\n",
    "            linewidth = '1.0',\n",
    "            color=fig_colors[0],\n",
    "            )\n",
    "\n",
    "''' x axis '''\n",
    "fig_ax.xaxis.set_tick_params(pad=0) # Knob: distance between x tick label and x-axis\n",
    "fig_ax.set_xlim([fig_ax.get_xticks()[0] - 0.5, fig_ax.get_xticks()[-1] + 0.5])\n",
    "fig_ax.set_xticks(fig_xticks)\n",
    "fig_xlabels = ['Class 0', 'Class 1', 'Class 2']\n",
    "fig_ax.set_xticklabels(fig_xlabels, fontsize=fig_label_fontsize, fontproperties=ft)\n",
    "fig_ax.xaxis.set_ticks_position('none') # Knob: uncomment for visible x ticks\n",
    "# ax.tick_params(direction='in') # Knob: [in, out, inout]\n",
    "# ax.set_xlabel(fig_title) # Knob: the overall x label text\n",
    "''' y axis '''\n",
    "fig_ax.set_yscale('log')\n",
    "fig_ax.yaxis.set_tick_params(pad=0) # Knob: distance between y tick label and y-axis\n",
    "# easypyplot.format.set_axis_to_percent(fig_ax.yaxis) # Uncomment for y axis tick label in xx% format\n",
    "fig_ax.yaxis.grid(True)\n",
    "# fig_ax.set_ylim(fig_ylim)\n",
    "# fig_ax.set_yticks(fig_yticks)\n",
    "# fig_yticks_label = [\"{:.2f}\".format(item) for item in fig_yticks] # Change for customized y tick label text\n",
    "# fig_ax.set_yticklabels(fig_yticks_label, fontproperties=ft)\n",
    "fig_ax.set_ylabel(fig_title, multialignment='center', fontproperties=ft)\n",
    "\n",
    "rbratio_ax.set_ylim((0, 100))\n",
    "rbratio_yticklabels = [str(int(item)) + '00%' for item in rbratio_ax.get_yticks()]\n",
    "rbratio_yticklabels[0] = '0'\n",
    "print(rbratio_yticklabels)\n",
    "rbratio_ax.set_yticklabels(rbratio_yticklabels)\n",
    "fig_h += rbratio_ax.plot(fig_xticks, rbratio_data_2darr,\n",
    "            marker='o',\n",
    "            markersize = '5.0',\n",
    "            linewidth = '1.0',\n",
    "            color=fig_colors[1],\n",
    "            )\n",
    "\n",
    "\n",
    "''' legend '''\n",
    "legend = [workload_dict[item] for item in workload_dict]\n",
    "fig.legend(fig_h, legend, loc='center right', frameon=False, prop=ft,\n",
    "        bbox_to_anchor=(0.97, 1),\n",
    "        ncol=2,\n",
    "        numpoints=1,\n",
    "        columnspacing=1.5, # padding between columns\n",
    "        labelspacing=1, # padding between rows\n",
    "        )\n",
    "\n",
    "''' last resize '''\n",
    "plt.tight_layout()\n",
    "easypyplot.format.resize_ax_box(fig_ax, hratio=0.8)"
   ]
  },
  {
   "cell_type": "code",
   "execution_count": 15,
   "metadata": {},
   "outputs": [],
   "source": [
    "''' Save figures'''\n",
    "fig.savefig(fig_path + fig_name+'.pdf', format=\"pdf\", bbox_inches = 'tight')\n",
    "# easypyplot.pdf.plot_teardown(pp) # BUG: it sometimes generates wierd chopped pdf figures\n",
    "# fig.savefig(fig_name+'.svg', format=\"svg\", bbox_inches = 'tight', transparent=False) # svg format"
   ]
  }
 ],
 "metadata": {
  "kernelspec": {
   "display_name": "Python 3",
   "language": "python",
   "name": "python3"
  },
  "language_info": {
   "codemirror_mode": {
    "name": "ipython",
    "version": 3
   },
   "file_extension": ".py",
   "mimetype": "text/x-python",
   "name": "python",
   "nbconvert_exporter": "python",
   "pygments_lexer": "ipython3",
   "version": "3.8.5"
  },
  "vscode": {
   "interpreter": {
    "hash": "9500a60ae47ddf778c75ed8f5c5589feb8456bc26627d78889e135849e54d69d"
   }
  }
 },
 "nbformat": 4,
 "nbformat_minor": 2
}
