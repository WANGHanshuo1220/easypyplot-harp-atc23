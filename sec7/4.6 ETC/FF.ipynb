{
    "cells": [
        {
            "cell_type": "code",
            "execution_count": 44,
            "metadata": {},
            "outputs": [],
            "source": [
                "''' Required packages. Use python3 -m pip install xxx for all the packages. '''\n",
                "from pprint import pprint\n",
                "import pandas as pd\n",
                "import numpy as np\n",
                "import matplotlib.font_manager as fm\n",
                "from matplotlib import pyplot as plt\n",
                "import easypyplot"
            ]
        },
        {
            "cell_type": "code",
            "execution_count": 45,
            "metadata": {},
            "outputs": [],
            "source": [
                "''' Plot parameters. Change only if you want to resize the graph, etc. '''\n",
                "fig_bar_width = 0.75\n",
                "fig_dims = (5, 4)\n",
                "fig_label_fontsize = 10\n",
                "ft = fm.FontProperties('Times New Roman')\n",
                "ft.set_size(10.0)\n",
                "\n",
                "fig_name = 'graph_sensitivity'"
            ]
        },
        {
            "cell_type": "code",
            "execution_count": 46,
            "metadata": {},
            "outputs": [],
            "source": [
                "fig_scheme_list = ['Baseline Read Access', 'Baseline Write Access',\n",
                "                   'Harp Read Access', 'Harp Write Access',]\n",
                "fig_scheme_dict = {item: item for item in fig_scheme_list}\n",
                "\n",
                "fig_title = 'ETC'\n",
                "fig_name = 'ETC breakdown'\n",
                "fig_path = '../../4.6/'\n",
                "fig_ylim = (0, 2000)\n",
                "fig_yticks = list(np.arange(fig_ylim[0], fig_ylim[1]+0.01, 200))\n",
                "fig_bar_colors = [easypyplot.color.COLOR_SET[i] for i in [4, 0]]\n",
                "design_colors = fig_bar_colors\n",
                "baseline_colors = easypyplot.color.color_scale(design_colors[0], 2, 0.5, 0.75)[::-1]\n",
                "igc_colors = easypyplot.color.color_scale(design_colors[1], 2, 0.5, 0.75)[::-1]\n",
                "design_len = 2\n",
                "assert len(fig_bar_colors) == design_len"
            ]
        },
        {
            "cell_type": "code",
            "execution_count": 47,
            "metadata": {},
            "outputs": [
                {
                    "name": "stdout",
                    "output_type": "stream",
                    "text": [
                        "[[834.22, 132.6, 392.37, 109.16], [908.34, 118.53, 393.53, 104.45]]\n",
                        "[[12730, 5987], [13861, 6004]]\n"
                    ]
                }
            ],
            "source": [
                "''' Load key space data '''\n",
                "csv_path = 'key_space.csv'\n",
                "workload_list_KEYS = ['CCEH', 'CCEH-P']\n",
                "workload_dict = {item: item for item in workload_list_KEYS}\n",
                "\n",
                "# pprint(fig_yticks)\n",
                "csv_hd = pd.read_csv(csv_path, sep=',')\n",
                "fig_xlabels_KEYS = []\n",
                "baseline_xticks_KEYS = []\n",
                "fig_data_KEYS = []\n",
                "xtick = -1\n",
                "for idx, row in csv_hd.iterrows():\n",
                "    workload_fullname = row[0]\n",
                "    if any(workload == workload_fullname for workload in workload_list_KEYS):\n",
                "        row_value = []\n",
                "        for col in row.keys():\n",
                "            if any(scheme in col for scheme in fig_scheme_dict):\n",
                "                row_value.append(row[col])\n",
                "        fig_data_KEYS.append(row_value)\n",
                "        fig_xlabels_KEYS.append(workload_fullname)\n",
                "        xtick += 2\n",
                "        baseline_xticks_KEYS.append(xtick)\n",
                "assert len(fig_data_KEYS) == len(fig_xlabels_KEYS) == len(baseline_xticks_KEYS)\n",
                "igc_xticks_KEYS = [item + fig_bar_width for item in baseline_xticks_KEYS]\n",
                "\n",
                "pprint(fig_data_KEYS)\n",
                "\n",
                "''' Layout hit rate '''\n",
                "layout_scheme_list = ['Baseline GC', 'Harp GC']\n",
                "layout_scheme_dict = {item: item for item in layout_scheme_list}\n",
                "csv_hd = pd.read_csv(csv_path, sep=',')\n",
                "layout_xlabels_KEYS = []\n",
                "layout_xticks_KEYS = []\n",
                "layout_data_KEYS = []\n",
                "xtick = -1\n",
                "for idx, row in csv_hd.iterrows():\n",
                "    workload_fullname = row[0]\n",
                "    if any(workload == workload_fullname for workload in workload_list_KEYS):\n",
                "        row_value = []\n",
                "        for col in row.keys():\n",
                "            if any(scheme in col for scheme in layout_scheme_dict):\n",
                "                row_value.append(row[col])\n",
                "        layout_data_KEYS.append(row_value)\n",
                "        layout_xlabels_KEYS.append(workload_fullname)\n",
                "        xtick += 1\n",
                "        layout_xticks_KEYS.append(xtick)\n",
                "assert len(layout_data_KEYS) == len(layout_xlabels_KEYS) == len(layout_xticks_KEYS)\n",
                "\n",
                "pprint(layout_data_KEYS)"
            ]
        },
        {
            "cell_type": "code",
            "execution_count": 48,
            "metadata": {},
            "outputs": [
                {
                    "name": "stdout",
                    "output_type": "stream",
                    "text": [
                        "[12730 13861]\n",
                        "[12730 13861]\n"
                    ]
                },
                {
                    "data": {
                        "text/plain": [
                            "<matplotlib.legend.Legend at 0x7fb29a005e80>"
                        ]
                    },
                    "execution_count": 48,
                    "metadata": {},
                    "output_type": "execute_result"
                },
                {
                    "data": {
                        "image/png": "[encoded data removed]",
                        "text/plain": [
                            "<Figure size 360x288 with 2 Axes>"
                        ]
                    },
                    "metadata": {
                        "needs_background": "light"
                    },
                    "output_type": "display_data"
                }
            ],
            "source": [
                "pp, fig = easypyplot.pdf.plot_setup(fig_name, fig_dims)\n",
                "\n",
                "''' plot key space '''\n",
                "fig_ax = fig.add_subplot(1 ,1 ,1)\n",
                "fig_ax2 = fig_ax.twinx()\n",
                "easypyplot.format.turn_off_box(fig_ax, twinx_axes=fig_ax2)\n",
                "fig_data_nparr = np.array(fig_data_KEYS)\n",
                "baseline_acc_data = fig_data_nparr[:, :2]\n",
                "igc_acc_data = fig_data_nparr[:, 2:4]\n",
                "fig_h = []\n",
                "fig_h += easypyplot.barchart.draw(\n",
                "    fig_ax, baseline_acc_data,\n",
                "    width=fig_bar_width,\n",
                "    breakdown=True,\n",
                "    group_names=fig_xlabels_KEYS,\n",
                "    xticks=baseline_xticks_KEYS,\n",
                "    xticklabelfontsize=fig_label_fontsize,\n",
                "    xticklabelrotation=0,\n",
                "    # prop=ft,\n",
                "    colors=baseline_colors)\n",
                "fig_h += easypyplot.barchart.draw(\n",
                "    fig_ax, igc_acc_data,\n",
                "    width=fig_bar_width,\n",
                "    breakdown=True,\n",
                "    group_names=fig_xlabels_KEYS,\n",
                "    xticks=igc_xticks_KEYS,\n",
                "    xticklabelfontsize=fig_label_fontsize,\n",
                "    xticklabelrotation=0,\n",
                "    # prop=ft, \n",
                "    colors=igc_colors)\n",
                "fig_h2 = []\n",
                "# easypyplot.format.turn_off_box(fig)\n",
                "layout_data_nparr = np.array(layout_data_KEYS)\n",
                "layout_xticks = [baseline_xticks_KEYS, igc_xticks_KEYS]\n",
                "for group_id in range(design_len):\n",
                "    print(layout_data_nparr[:, 0])\n",
                "    fig_h2 += fig_ax2.plot(layout_xticks[group_id], layout_data_nparr[:, group_id],\n",
                "                marker='*',\n",
                "                linewidth = '1.0',\n",
                "                color = '#000000',\n",
                "                # color = baseline_colors[0],\n",
                "                markersize = '7.0',\n",
                "                # prop = ft\n",
                "                )\n",
                "''' x axis '''\n",
                "fig_ax.set_xlim([fig_ax.get_xticks()[0] - 1, fig_ax.get_xticks()[-1] + 1])\n",
                "fig_ax.set_xticks(baseline_xticks_KEYS)\n",
                "fig_ax.set_xlim([0, len(workload_list_KEYS) * design_len + 1])\n",
                "fig_ax.set_xticklabels(fig_xlabels_KEYS, fontsize=fig_label_fontsize, fontproperties=ft)\n",
                "fig_ax.xaxis.set_ticks_position('none') # Comment this and the next line for visible ticks\n",
                "# fig_ax.tick_params(direction='in') # [in, out, inout]\n",
                "fig_ax.set_xlabel('ETC breakdown', fontproperties=ft)\n",
                "''' y axis '''\n",
                "fig_ax.yaxis.grid(True)\n",
                "fig_ylim_ = (0, 1500)\n",
                "fig_yticks_ = list(np.arange(fig_ylim_[0], fig_ylim_[1]+0.01, 200))\n",
                "fig_ax.set_ylim(fig_ylim_)\n",
                "fig_ax.set_yticks(fig_yticks_)\n",
                "fig_ax.set_ylabel('Access Breakdown', multialignment='center', fontproperties=ft)\n",
                "layout_ylim = [0., 20000.]\n",
                "fig_ax2.set_ylim(layout_ylim)\n",
                "fig_ax2.set_yticks(list(np.arange(layout_ylim[0], layout_ylim[1]+0.01, 2500)))\n",
                "fig_ax2.set_ylabel('GC times', multialignment='center', fontproperties=ft)\n",
                "\n",
                "''' legend '''\n",
                "legend = [fig_scheme_dict[item] for item in fig_scheme_dict]\n",
                "fig.legend(fig_h, legend, loc='upper center', bbox_to_anchor=(0.5, 1),\n",
                "        ncol=2, frameon=False, prop=ft, columnspacing=3, labelspacing=0)\n",
                "\n",
                "# ''' last resize '''\n",
                "# plt.subplots_adjust(right=1.2)\n",
                "# fig.subplots_adjust(hspace=1)\n",
                "# plt.tight_layout()\n",
                "# easypyplot.format.resize_ax_box(fig_ax, hratio=0.8)\n"
            ]
        },
        {
            "cell_type": "code",
            "execution_count": 49,
            "metadata": {},
            "outputs": [],
            "source": [
                "''' Save figures'''\n",
                "fig.savefig(fig_path + fig_name+'.pdf', format=\"pdf\", bbox_inches = 'tight')\n",
                "# easypyplot.pdf.plot_teardown(pp) # it generates wierd chopped figures"
            ]
        }
    ],
    "metadata": {
        "kernelspec": {
            "display_name": "Python 3",
            "language": "python",
            "name": "python3"
        },
        "language_info": {
            "codemirror_mode": {
                "name": "ipython",
                "version": 3
            },
            "file_extension": ".py",
            "mimetype": "text/x-python",
            "name": "python",
            "nbconvert_exporter": "python",
            "pygments_lexer": "ipython3",
            "version": "3.6.9 (default, Nov 25 2022, 14:10:45) \n[GCC 8.4.0]"
        },
        "orig_nbformat": 4,
        "vscode": {
            "interpreter": {
                "hash": "767d51c1340bd893661ea55ea3124f6de3c7a262a8b4abca0554b478b1e2ff90"
            }
        }
    },
    "nbformat": 4,
    "nbformat_minor": 2
}
