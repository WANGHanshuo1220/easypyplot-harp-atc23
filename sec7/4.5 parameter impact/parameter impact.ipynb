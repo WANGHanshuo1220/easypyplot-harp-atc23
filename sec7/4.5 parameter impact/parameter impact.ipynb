{
 "cells": [
  {
   "cell_type": "code",
   "execution_count": 29,
   "metadata": {},
   "outputs": [
    {
     "name": "stdout",
     "output_type": "stream",
     "text": [
      "The autoreload extension is already loaded. To reload it, use:\n",
      "  %reload_ext autoreload\n"
     ]
    }
   ],
   "source": [
    "''' Required packages. Use python3 -m pip install xxx for all the packages. '''\n",
    "from pprint import pprint\n",
    "import pandas as pd\n",
    "import numpy as np\n",
    "import matplotlib.font_manager as fm\n",
    "from matplotlib import pyplot as plt\n",
    "import easypyplot\n",
    "# Automatically update if external package code is modified\n",
    "%load_ext autoreload\n",
    "%autoreload 2"
   ]
  },
  {
   "cell_type": "code",
   "execution_count": 30,
   "metadata": {},
   "outputs": [],
   "source": [
    "''' Plot knobs. Change only if you want to resize the graph, etc. '''\n",
    "fig_dims = (10, 2.5)\n",
    "fig_label_fontsize = 20\n",
    "ft = fm.FontProperties('Times New Roman')\n",
    "ft.set_size(fig_label_fontsize)\n",
    "ft1 = fm.FontProperties('Times New Roman')\n",
    "ft1.set_size(20)\n",
    "\n",
    "''' [TODO] Figure properties. Specify the csv file and corresponding labels. '''\n",
    "scheme_list = ['18', '24', '30', '36'] # TODO: list of all schemes in the breakdown. Each row corresponds with one scheme\n",
    "scheme_dict = {item: item for item in scheme_list}\n",
    "\n",
    "fig_title = 'Throughput (Mops)' # TODO: figure title, shown as y-axis label\n",
    "fig_path = '../../4.5/'\n",
    "fig_name = '4.5 parameter impact' # TODO: figure name, used as pdf name\n",
    "fig_ylim = (25, 45) # TODO: y-axis range. Align with your data\n",
    "fig_yticks = list(np.arange(fig_ylim[0], fig_ylim[1], 5.0))"
   ]
  },
  {
   "cell_type": "code",
   "execution_count": 31,
   "metadata": {},
   "outputs": [
    {
     "name": "stdout",
     "output_type": "stream",
     "text": [
      "array([[28.98, 34.8 , 39.55, 38.94],\n",
      "       [28.54, 34.47, 39.88, 38.91],\n",
      "       [28.57, 34.61, 39.28, 38.1 ],\n",
      "       [28.39, 34.34, 39.2 , 38.4 ]])\n"
     ]
    }
   ],
   "source": [
    "''' Load data from segment size. '''\n",
    "csv_path = 'segment size.csv' # TODO: path to the result table, in csv format\n",
    "workload_list = ['512/128', '1024/256', '1024/512', '512/512'] # TODO: list of all workloads you have used. Each column corresponds with one workload\n",
    "workload_dict_SEGS = {item: item for item in workload_list} # Change the mapping if you want a different figure label text instead of the csv column name\n",
    "csv_hd = pd.read_csv(csv_path, sep=',')\n",
    "# TODO assert workload_name\n",
    "# TODO assert scheme_name\n",
    "fig_xlabels_SEGS = []\n",
    "fig_xticks_SEGS = []\n",
    "fig_data_SEGS = []\n",
    "xtick = -1\n",
    "for idx, row in csv_hd.iterrows():\n",
    "    scheme_fullname = str(int(row[0]))\n",
    "    if any(scheme in scheme_fullname for scheme in scheme_list):\n",
    "        row_value = []\n",
    "        for col in row.keys():\n",
    "            if any(workload in col for workload in workload_dict_SEGS):\n",
    "                row_value.append(row[col])\n",
    "        fig_data_SEGS.append(row_value)\n",
    "        fig_xlabels_SEGS.append(scheme_fullname)\n",
    "        xtick += 1\n",
    "        fig_xticks_SEGS.append(xtick)\n",
    "fig_data_SEGS = np.transpose(fig_data_SEGS)\n",
    "assert fig_data_SEGS.shape[1] == len(fig_xlabels_SEGS) == len(fig_xticks_SEGS)\n",
    "\n",
    "pprint(fig_data_SEGS)"
   ]
  },
  {
   "cell_type": "code",
   "execution_count": 32,
   "metadata": {},
   "outputs": [
    {
     "name": "stdout",
     "output_type": "stream",
     "text": [
      "array([[28.98, 34.8 , 39.55, 38.94],\n",
      "       [28.28, 34.65, 39.21, 38.91],\n",
      "       [28.53, 34.63, 39.23, 38.45],\n",
      "       [28.14, 34.64, 39.43, 38.83]])\n"
     ]
    }
   ],
   "source": [
    "''' Load data from changing threshold. '''\n",
    "csv_path = 'changing threshold.csv' # TODO: path to the result table, in csv format\n",
    "workload_list = ['0.5', '0.3', '0.25', '0.75'] # TODO: list of all workloads you have used. Each column corresponds with one workload\n",
    "workload_dict_THR = {item: item for item in workload_list} # Change the mapping if you want a different figure label text instead of the csv column name\n",
    "csv_hd = pd.read_csv(csv_path, sep=',')\n",
    "# TODO assert workload_name\n",
    "# TODO assert scheme_name\n",
    "fig_xlabels_THR = []\n",
    "fig_xticks_THR = []\n",
    "fig_data_THR = []\n",
    "xtick = -1\n",
    "for idx, row in csv_hd.iterrows():\n",
    "    scheme_fullname = str(int(row[0]))\n",
    "    if any(scheme in scheme_fullname for scheme in scheme_list):\n",
    "        row_value = []\n",
    "        for col in row.keys():\n",
    "            if any(workload in col for workload in workload_dict_THR):\n",
    "                row_value.append(row[col])\n",
    "        fig_data_THR.append(row_value)\n",
    "        fig_xlabels_THR.append(scheme_fullname)\n",
    "        xtick += 1\n",
    "        fig_xticks_THR.append(xtick)\n",
    "fig_data_THR = np.transpose(fig_data_THR)\n",
    "assert fig_data_THR.shape[1] == len(fig_xlabels_THR) == len(fig_xticks_THR)\n",
    "\n",
    "pprint(fig_data_THR)"
   ]
  },
  {
   "cell_type": "code",
   "execution_count": 33,
   "metadata": {},
   "outputs": [],
   "source": [
    "fig_colors = [easypyplot.color.COLOR_SET[i] for i in [3, 2, 1, 0]] # TODO: choose enough colors for schemes\n",
    "FULL_MARKER_SET = ['o', '^', 'v', 's', 'D']\n",
    "fig_marker = [FULL_MARKER_SET[i] for i in [0, 1, 2, 3]] # TODO: choose enough markers for schemes"
   ]
  },
  {
   "cell_type": "code",
   "execution_count": 34,
   "metadata": {},
   "outputs": [
    {
     "data": {
      "text/plain": [
       "' last resize '"
      ]
     },
     "execution_count": 34,
     "metadata": {},
     "output_type": "execute_result"
    },
    {
     "data": {
      "image/png": "[encoded data removed]",
      "text/plain": [
       "<Figure size 720x180 with 2 Axes>"
      ]
     },
     "metadata": {
      "needs_background": "light"
     },
     "output_type": "display_data"
    }
   ],
   "source": [
    "''' Ploting script '''\n",
    "pp, fig = easypyplot.pdf.plot_setup(fig_path + fig_name, fig_dims)\n",
    "# ax = fig.gca() # Only used with no subplot mode\n",
    "\n",
    "''' segment size '''\n",
    "fig_ax = fig.add_subplot(1, 2, 1) # Knob: plot the first subgraph of a 1x1 grid, i.e., no subplot mode\n",
    "easypyplot.format.turn_off_box(fig_ax)\n",
    "\n",
    "fig_SEGS_h = []\n",
    "for group_id in range(len(workload_dict_SEGS)):\n",
    "    fig_SEGS_h += fig_ax.plot(fig_xticks_SEGS, fig_data_SEGS[group_id],\n",
    "                marker=fig_marker[group_id],\n",
    "                linewidth = '1.0',\n",
    "                color=fig_colors[group_id],\n",
    "                )\n",
    "\n",
    "''' x axis '''\n",
    "fig_ax.xaxis.set_tick_params(pad=0) # Knob: distance between x tick label and x-axis\n",
    "fig_ax.set_xlim([fig_ax.get_xticks()[0] - 0.5, fig_ax.get_xticks()[-1] + 0.5])\n",
    "fig_ax.set_xticks(fig_xticks_SEGS)\n",
    "fig_ax.set_xticklabels(fig_xlabels_SEGS, fontsize=fig_label_fontsize, fontproperties=ft)\n",
    "fig_ax.xaxis.set_ticks_position('none') # Knob: uncomment for visible x ticks\n",
    "# ax.tick_params(direction='in') # Knob: [in, out, inout]\n",
    "# ax.set_xlabel(fig_title) # Knob: the overall x label text\n",
    "fig_ax.set_xlabel('segment size', fontproperties=ft1)\n",
    "\n",
    "''' y axis '''\n",
    "fig_ax.yaxis.set_tick_params(pad=0) # Knob: distance between y tick label and y-axis\n",
    "# easypyplot.format.set_axis_to_percent(fig_ax.yaxis) # Uncomment for y axis tick label in xx% format\n",
    "fig_ax.yaxis.grid(True)\n",
    "fig_ax.set_ylim(fig_ylim)\n",
    "fig_ax.set_yticks(fig_yticks)\n",
    "fig_yticks_label = [\"{:.2f}\".format(item) for item in fig_yticks] # Change for customized y tick label text\n",
    "fig_ax.set_yticklabels(fig_yticks_label, fontproperties=ft)\n",
    "fig_ax.set_ylabel(fig_title, multialignment='center', fontproperties=ft1)\n",
    "\n",
    "''' legend '''\n",
    "SEGS_legend = [workload_dict_SEGS[item] for item in workload_dict_SEGS]\n",
    "fig.legend(fig_SEGS_h, SEGS_legend, loc='upper left', frameon=False, prop=ft,\n",
    "        bbox_to_anchor=(0.1, 1.27),\n",
    "        ncol=2,\n",
    "        numpoints=1,\n",
    "        columnspacing=0.5, # padding between columns\n",
    "        labelspacing=1, # padding between rows\n",
    "        )\n",
    "\n",
    "''' changing thershold '''\n",
    "fig_ax = fig.add_subplot(1, 2, 2) # Knob: plot the first subgraph of a 1x1 grid, i.e., no subplot mode\n",
    "easypyplot.format.turn_off_box(fig_ax)\n",
    "\n",
    "fig_THR_h = []\n",
    "for group_id in range(len(workload_dict_THR)):\n",
    "    fig_THR_h += fig_ax.plot(fig_xticks_THR, fig_data_THR[group_id],\n",
    "                marker=fig_marker[group_id],\n",
    "                linewidth = '1.0',\n",
    "                color=fig_colors[group_id],\n",
    "                )\n",
    "\n",
    "''' x axis '''\n",
    "fig_ax.xaxis.set_tick_params(pad=0) # Knob: distance between x tick label and x-axis\n",
    "fig_ax.set_xlim([fig_ax.get_xticks()[0] - 0.5, fig_ax.get_xticks()[-1] + 0.5])\n",
    "fig_ax.set_xticks(fig_xticks_THR)\n",
    "fig_ax.set_xticklabels(fig_xlabels_THR, fontsize=fig_label_fontsize, fontproperties=ft)\n",
    "fig_ax.xaxis.set_ticks_position('none') # Knob: uncomment for visible x ticks\n",
    "# ax.tick_params(direction='in') # Knob: [in, out, inout]\n",
    "# ax.set_xlabel(fig_title) # Knob: the overall x label text\n",
    "fig_ax.set_xlabel('changing threshold', fontproperties=ft1)\n",
    "\n",
    "''' y axis '''\n",
    "fig_ax.yaxis.set_tick_params(pad=0) # Knob: distance between y tick label and y-axis\n",
    "# easypyplot.format.set_axis_to_percent(fig_ax.yaxis) # Uncomment for y axis tick label in xx% format\n",
    "fig_ax.yaxis.grid(True)\n",
    "fig_ax.set_ylim(fig_ylim)\n",
    "fig_ax.set_yticks(fig_yticks)\n",
    "fig_yticks_label = [\"{:.2f}\".format(item) for item in fig_yticks] # Change for customized y tick label text\n",
    "fig_ax.set_yticklabels(fig_yticks_label, fontproperties=ft)\n",
    "# fig_ax.set_ylabel(fig_title, multialignment='center', fontproperties=ft)\n",
    "\n",
    "''' legend '''\n",
    "THR_legend = [workload_dict_THR[item] for item in workload_dict_THR]\n",
    "fig.legend(fig_THR_h, THR_legend, loc='upper left', frameon=False, prop=ft,\n",
    "        bbox_to_anchor=(0.57, 1.27),\n",
    "        ncol=2,\n",
    "        numpoints=1,\n",
    "        columnspacing=0.5, # padding between columns\n",
    "        labelspacing=1, # padding between rows\n",
    "        )\n",
    "\n",
    "''' last resize '''\n",
    "# plt.tight_layout()\n",
    "# easypyplot.format.resize_ax_box(fig_ax, hratio=0.5)"
   ]
  },
  {
   "cell_type": "code",
   "execution_count": 35,
   "metadata": {},
   "outputs": [],
   "source": [
    "''' Save figures'''\n",
    "fig.savefig(fig_path + fig_name+'.pdf', format=\"pdf\", bbox_inches = 'tight')\n",
    "# easypyplot.pdf.plot_teardown(pp) # BUG: it sometimes generates wierd chopped pdf figures\n",
    "# fig.savefig(fig_name+'.svg', format=\"svg\", bbox_inches = 'tight', transparent=False) # svg format"
   ]
  }
 ],
 "metadata": {
  "kernelspec": {
   "display_name": "Python 3",
   "language": "python",
   "name": "python3"
  },
  "language_info": {
   "codemirror_mode": {
    "name": "ipython",
    "version": 3
   },
   "file_extension": ".py",
   "mimetype": "text/x-python",
   "name": "python",
   "nbconvert_exporter": "python",
   "pygments_lexer": "ipython3",
   "version": "3.6.9"
  },
  "vscode": {
   "interpreter": {
    "hash": "767d51c1340bd893661ea55ea3124f6de3c7a262a8b4abca0554b478b1e2ff90"
   }
  }
 },
 "nbformat": 4,
 "nbformat_minor": 2
}
