{
    "cells": [
        {
            "cell_type": "code",
            "execution_count": 109,
            "metadata": {},
            "outputs": [],
            "source": [
                "''' Required packages. Use python3 -m pip install xxx for all the packages. '''\n",
                "from pprint import pprint\n",
                "import pandas as pd\n",
                "import numpy as np\n",
                "import matplotlib.font_manager as fm\n",
                "from matplotlib import pyplot as plt\n",
                "import easypyplot"
            ]
        },
        {
            "cell_type": "code",
            "execution_count": 110,
            "metadata": {},
            "outputs": [],
            "source": [
                "''' Plot parameters. Change only if you want to resize the graph, etc. '''\n",
                "fig_bar_width = 0.7\n",
                "fig_dims = (10, 2.5)\n",
                "fig_label_fontsize = 18\n",
                "xy_label_size = 16\n",
                "ft = fm.FontProperties('Times New Roman')\n",
                "ft.set_size(fig_label_fontsize)\n",
                "\n",
                "fig_path = '../../4.4/'\n",
                "fig_name = 'technique breakdown'"
            ]
        },
        {
            "cell_type": "code",
            "execution_count": 111,
            "metadata": {},
            "outputs": [
                {
                    "name": "stdout",
                    "output_type": "stream",
                    "text": [
                        "[[18.88, 29.01, 35.28, 39.49]]\n"
                    ]
                }
            ],
            "source": [
                "csv_path = 'CCEH.csv'\n",
                "workload_list = ['CCEH']\n",
                "scheme_list = ['single-channel', 'multi-channel', '+IGC', '+HAM']\n",
                "workload_dict = {item: item for item in workload_list}\n",
                "repl_scheme_dict = {item: item for item in scheme_list}\n",
                "\n",
                "repl_title = 'Throughput (Mops)'\n",
                "repl_name = 'CCEH'\n",
                "repl_ylim = (10, 40)\n",
                "repl_yticks = list(np.arange(repl_ylim[0], repl_ylim[1]+0.01, 10))\n",
                "repl_bar_colors = [easypyplot.color.COLOR_SET[i] for i in [3, 2, 1, 0]]\n",
                "assert len(repl_bar_colors) == len(repl_scheme_dict)\n",
                "\n",
                "''' Load data from file. '''\n",
                "csv_hd = pd.read_csv(csv_path, sep=',')\n",
                "repl_xlabels = []\n",
                "repl_xticks = []\n",
                "repl_data_2darr = []\n",
                "xtick = -1\n",
                "for idx, row in csv_hd.iterrows():\n",
                "    workload_fullname = row[0]\n",
                "    if any(workload in workload_fullname for workload in workload_list):\n",
                "        row_value = []\n",
                "        for col in row.keys():\n",
                "            if any(scheme in col for scheme in repl_scheme_dict):\n",
                "                row_value.append(row[col])\n",
                "        repl_data_2darr.append(row_value)\n",
                "        repl_xlabels.append(workload_fullname)\n",
                "        xtick += 1\n",
                "        repl_xticks.append(xtick)\n",
                "assert len(repl_data_2darr) == len(repl_xlabels) == len(repl_xticks)\n",
                "\n",
                "pprint(repl_data_2darr)"
            ]
        },
        {
            "cell_type": "code",
            "execution_count": 112,
            "metadata": {},
            "outputs": [
                {
                    "name": "stdout",
                    "output_type": "stream",
                    "text": [
                        "[[3.0, 3.48, 3.4, 5.1]]\n"
                    ]
                }
            ],
            "source": [
                "sbsize_csv_path = 'FF.csv'\n",
                "workload_list = ['FF']\n",
                "scheme_list = ['single-channel', 'multi-channel', '+IGC', '+HAM']\n",
                "workload_dict = {item: item for item in workload_list}\n",
                "sbsize_scheme_dict = {item: item for item in scheme_list}\n",
                "\n",
                "sbsize_title = 'Norm. Performance'\n",
                "sbsize_name = 'FF'\n",
                "sbsize_ylim = (2, 6)\n",
                "sbsize_yticks = list(np.arange(sbsize_ylim[0], sbsize_ylim[1]+0.01, 1))\n",
                "sbsize_bar_colors = [easypyplot.color.COLOR_SET[i] for i in [3, 2, 1, 0]]\n",
                "assert len(sbsize_bar_colors) == len(sbsize_scheme_dict)\n",
                "\n",
                "''' SBSize: Load data from file. '''\n",
                "csv_hd = pd.read_csv(sbsize_csv_path, sep=',')\n",
                "sbsize_xlabels = []\n",
                "sbsize_xticks = []\n",
                "sbsize_data_2darr = []\n",
                "xtick = -1\n",
                "for idx, row in csv_hd.iterrows():\n",
                "    workload_fullname = row[0]\n",
                "    if any(workload in workload_fullname for workload in workload_list):\n",
                "        row_value = []\n",
                "        for col in row.keys():\n",
                "            if any(scheme in col for scheme in sbsize_scheme_dict):\n",
                "                row_value.append(row[col])\n",
                "        sbsize_data_2darr.append(row_value)\n",
                "        sbsize_xlabels.append(workload_fullname)\n",
                "        xtick += 1\n",
                "        sbsize_xticks.append(xtick)\n",
                "assert len(sbsize_data_2darr) == len(sbsize_xlabels) == len(sbsize_xticks)\n",
                "\n",
                "pprint(sbsize_data_2darr)"
            ]
        },
        {
            "cell_type": "code",
            "execution_count": 113,
            "metadata": {},
            "outputs": [
                {
                    "data": {
                        "image/png": "[encoded data removed]",
                        "text/plain": [
                            "<Figure size 720x180 with 2 Axes>"
                        ]
                    },
                    "metadata": {
                        "needs_background": "light"
                    },
                    "output_type": "display_data"
                }
            ],
            "source": [
                "''' Two-level Repl: Ploting script '''\n",
                "pp, fig = easypyplot.pdf.plot_setup(fig_name, fig_dims)\n",
                "repl_ax = fig.add_subplot(1, 2, 1)\n",
                "easypyplot.format.turn_off_box(repl_ax)\n",
                "repl_h = easypyplot.barchart.draw(\n",
                "    repl_ax, repl_data_2darr,\n",
                "    width=fig_bar_width,\n",
                "    breakdown=False,\n",
                "    group_names=repl_xlabels,\n",
                "    xticks=repl_xticks,\n",
                "    xticklabelfontsize=fig_label_fontsize,\n",
                "    xticklabelrotation=0,\n",
                "    # prop=ft,\n",
                "    colors=repl_bar_colors)\n",
                "''' x axis '''\n",
                "repl_ax.set_xlim([repl_ax.get_xticks()[0] - 1, repl_ax.get_xticks()[-1] + 1])\n",
                "repl_ax.set_xticks(repl_xticks)\n",
                "repl_ax.set_xticklabels(repl_xlabels, fontsize=fig_label_fontsize, fontproperties=ft)\n",
                "repl_ax.xaxis.set_ticks_position('none') # Comment this and the next line for visible ticks\n",
                "# repl_ax.tick_params(direction='in') # [in, out, inout]\n",
                "# repl_ax.set_xlabel(repl_title)\n",
                "''' y axis '''\n",
                "repl_ax.yaxis.grid(True)\n",
                "repl_ax.set_ylim(repl_ylim)\n",
                "repl_ax.set_yticks(repl_yticks)\n",
                "repl_ax.set_ylabel(repl_title, multialignment='center', fontproperties=ft)\n",
                "repl_ax.tick_params(labelsize=xy_label_size)\n",
                "# repl_ax.set_xlabel('(a) Two-level Replacement Policy', fontproperties=ft)\n",
                "\n",
                "''' sbsize plot '''\n",
                "sbsize_ax = fig.add_subplot(1, 2, 2)\n",
                "easypyplot.format.turn_off_box(sbsize_ax)\n",
                "sbzsize_h = easypyplot.barchart.draw(\n",
                "    sbsize_ax, sbsize_data_2darr,\n",
                "    width=fig_bar_width,\n",
                "    breakdown=False,\n",
                "    group_names=sbsize_xlabels,\n",
                "    xticks=sbsize_xticks,\n",
                "    xticklabelfontsize=fig_label_fontsize,\n",
                "    xticklabelrotation=0,\n",
                "    # prop=ft,\n",
                "    colors=sbsize_bar_colors)\n",
                "''' x axis '''\n",
                "sbsize_ax.set_xlim([sbsize_ax.get_xticks()[0] - 1, sbsize_ax.get_xticks()[-1] + 1])\n",
                "sbsize_ax.set_xticks(sbsize_xticks)\n",
                "sbsize_ax.set_xticklabels(sbsize_xlabels, fontsize=fig_label_fontsize, fontproperties=ft)\n",
                "sbsize_ax.xaxis.set_ticks_position('none') # Comment this and the next line for visible ticks\n",
                "# repl_ax.tick_params(direction='in') # [in, out, inout]\n",
                "''' y axis '''\n",
                "sbsize_ax.yaxis.grid(True)\n",
                "sbsize_ax.set_ylim(sbsize_ylim)\n",
                "sbsize_ax.set_yticks(sbsize_yticks)\n",
                "sbsize_ax.tick_params(labelsize=xy_label_size)\n",
                "# sbsize_ax.set_ylabel('Norm. Performance', multialignment='center', fontproperties=ft)\n",
                "# sbsize_ax.set_xlabel('(b) Super-block Size', fontproperties=ft)\n",
                "''' legend '''\n",
                "sbsize_legend = [sbsize_scheme_dict[item] for item in sbsize_scheme_dict]\n",
                "fig.legend(sbzsize_h, sbsize_legend, loc='upper right', bbox_to_anchor=(0.95, 1.15),\n",
                "        ncol=4, frameon=False, prop=ft, columnspacing=1, labelspacing=0)\n",
                "\n",
                "\n",
                "''' last resize '''\n",
                "# fig.subplots_adjust(hspace=1)\n",
                "plt.tight_layout(w_pad=1.5, h_pad=2.75)\n",
                "easypyplot.format.resize_ax_box(repl_ax, hratio=0.8)\n",
                "easypyplot.format.resize_ax_box(sbsize_ax, hratio=0.8)\n",
                "# easypyplot.format.resize_ax_box(stagesize_ax, hratio=0.8)\n",
                "# easypyplot.format.resize_ax_box(cfr_ax, hratio=0.8)\n"
            ]
        },
        {
            "cell_type": "code",
            "execution_count": 114,
            "metadata": {},
            "outputs": [],
            "source": [
                "''' Save figures'''\n",
                "fig.savefig(fig_path + fig_name+'.pdf', format=\"pdf\", bbox_inches = 'tight')\n",
                "# easypyplot.pdf.plot_teardown(pp) # it generates wierd chopped figures"
            ]
        }
    ],
    "metadata": {
        "kernelspec": {
            "display_name": "Python 3",
            "language": "python",
            "name": "python3"
        },
        "language_info": {
            "codemirror_mode": {
                "name": "ipython",
                "version": 3
            },
            "file_extension": ".py",
            "mimetype": "text/x-python",
            "name": "python",
            "nbconvert_exporter": "python",
            "pygments_lexer": "ipython3",
            "version": "3.6.9"
        },
        "orig_nbformat": 4,
        "vscode": {
            "interpreter": {
                "hash": "767d51c1340bd893661ea55ea3124f6de3c7a262a8b4abca0554b478b1e2ff90"
            }
        }
    },
    "nbformat": 4,
    "nbformat_minor": 2
}
