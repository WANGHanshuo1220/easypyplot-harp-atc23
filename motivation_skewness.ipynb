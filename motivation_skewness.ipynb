{
 "cells": [
  {
   "cell_type": "code",
   "execution_count": 1,
   "metadata": {},
   "outputs": [],
   "source": [
    "''' Required packages. Use python3 -m pip install xxx for all the packages. '''\n",
    "from pprint import pprint\n",
    "import pandas as pd\n",
    "import numpy as np\n",
    "import matplotlib.font_manager as fm\n",
    "from matplotlib import pyplot as plt\n",
    "import easypyplot\n",
    "# Automatically update if external package code is modified\n",
    "%load_ext autoreload\n",
    "%autoreload 2"
   ]
  },
  {
   "cell_type": "code",
   "execution_count": 2,
   "metadata": {},
   "outputs": [
    {
     "name": "stdout",
     "output_type": "stream",
     "text": [
      "Expect 3 groups and 3 entries within each group\n"
     ]
    }
   ],
   "source": [
    "''' Plot knobs. Change only if you want to resize the graph, etc. '''\n",
    "fig_bar_width = 0.7\n",
    "fig_dims = (4, 2)\n",
    "fig_label_fontsize = 9\n",
    "ft = fm.FontProperties('Times New Roman')\n",
    "ft.set_size(fig_label_fontsize)\n",
    "\n",
    "''' [TODO] Figure properties. Specify the csv file and corresponding labels. '''\n",
    "csv_path = './sec2/motivation_skewness.csv'\n",
    "workload_list = ['4KB', '16KB', '64KB']\n",
    "scheme_list = ['C0_RBRate', 'C1_RBRate', 'C2_RBRate']\n",
    "workload_dict = {item: item for item in workload_list} # Change the mapping if you want a different figure label text instead of the csv column name\n",
    "\n",
    "scheme_dict = {item: item for item in scheme_list}\n",
    "scheme_dict['C0_RBRate'] = 'Class 0 Stale Tail Size'\n",
    "scheme_dict['C1_RBRate'] = 'Class 1 Stale Tail Size'\n",
    "scheme_dict['C2_RBRate'] = 'Class 2 Stale Tail Size'\n",
    "\n",
    "fig_title = '' # TODO: figure title, shown as y-axis label\n",
    "fig_path = './sec2/'\n",
    "fig_name = 'motivation_skewness'\n",
    "fig_ylim = (0, 6.01)\n",
    "fig_yticks = list(np.arange(fig_ylim[0], fig_ylim[1], 2.0))\n",
    "fig_colors = [easypyplot.color.COLOR_SET[i] for i in [1, 0]] # TODO: choose enough colors for schemes\n",
    "fig_bar_colors = ['#8ac8cb', '#ee7228', '#c00000']\n",
    "assert len(fig_bar_colors) == len(scheme_dict)\n",
    "\n",
    "print(\"Expect {} groups and {} entries within each group\".format(len(workload_dict), len(scheme_dict)))"
   ]
  },
  {
   "cell_type": "code",
   "execution_count": 3,
   "metadata": {},
   "outputs": [
    {
     "name": "stdout",
     "output_type": "stream",
     "text": [
      "[[1, 2.744718577, 5.136987689],\n",
      " [1, 2.01792004, 3.332385837],\n",
      " [1, 1.3771980680000002, 1.614396135]]\n"
     ]
    }
   ],
   "source": [
    "''' Load data from file. '''\n",
    "csv_hd = pd.read_csv(csv_path, sep=',')\n",
    "# TODO assert workload_name\n",
    "# TODO assert scheme_name\n",
    "fig_xlabels = []\n",
    "fig_xticks = []\n",
    "fig_data_2darr = []\n",
    "xtick = -1\n",
    "for idx, row in csv_hd.iterrows():\n",
    "    workload_fullname = row[0]\n",
    "    if any(workload in workload_fullname for workload in workload_list):\n",
    "        row_value = []\n",
    "        for col in row.keys():\n",
    "            if any(scheme in col for scheme in scheme_dict):\n",
    "                row_value.append(row[col])\n",
    "        fig_data_2darr.append(row_value)\n",
    "        fig_xlabels.append(workload_fullname)\n",
    "        xtick += 1\n",
    "        fig_xticks.append(xtick)\n",
    "assert len(fig_data_2darr) == len(fig_xlabels) == len(fig_xticks)\n",
    "\n",
    "pprint(fig_data_2darr)"
   ]
  },
  {
   "cell_type": "code",
   "execution_count": 4,
   "metadata": {},
   "outputs": [
    {
     "name": "stdout",
     "output_type": "stream",
     "text": [
      "[[1, 2.6970560000000003, 13.008289999999999],\n",
      " [1, 2.857326, 11.90064],\n",
      " [1, 3.016969, 12.40161]]\n"
     ]
    }
   ],
   "source": [
    "''' Load data from file. '''\n",
    "csv_hd = pd.read_csv(csv_path, sep=',')\n",
    "# TODO assert workload_name\n",
    "# TODO assert scheme_name\n",
    "gc_xlabels = []\n",
    "gc_xticks = []\n",
    "gc_data_2darr = []\n",
    "xtick = -1\n",
    "gc_workload_list = ['4KB', '16KB', '64KB']\n",
    "gc_scheme_list = ['C0_GCRate', 'C1_GCRate', 'C2_GCRate']\n",
    "gc_workload_dict = {item: item for item in gc_workload_list}\n",
    "gc_scheme_dict = {item: item for item in gc_scheme_list}\n",
    "for idx, row in csv_hd.iterrows():\n",
    "    workload_fullname = row[0]\n",
    "    if any(workload in workload_fullname for workload in gc_workload_list):\n",
    "        row_value = []\n",
    "        for col in row.keys():\n",
    "            if any(scheme in col for scheme in gc_scheme_dict):\n",
    "                row_value.append(row[col])\n",
    "        gc_data_2darr.append(row_value)\n",
    "        gc_xlabels.append(workload_fullname)\n",
    "        xtick += 1\n",
    "        gc_xticks.append(xtick)\n",
    "assert len(gc_data_2darr) == len(gc_xlabels) == len(gc_xticks)\n",
    "\n",
    "pprint(gc_data_2darr)"
   ]
  },
  {
   "cell_type": "code",
   "execution_count": 5,
   "metadata": {},
   "outputs": [
    {
     "data": {
      "image/png": "[encoded data removed]",
      "text/plain": [
       "<Figure size 288x144 with 2 Axes>"
      ]
     },
     "metadata": {
      "needs_background": "light"
     },
     "output_type": "display_data"
    }
   ],
   "source": [
    "''' Ploting script '''\n",
    "pp, fig = easypyplot.pdf.plot_setup(fig_name, fig_dims)\n",
    "# ax = fig.gca() # Only used with no subplot mode\n",
    "fig_ax = fig.add_subplot(1, 1, 1) # Knob: plot the first subgraph of a 1x1 grid, i.e., no subplot mode\n",
    "gc_ax = fig_ax.twinx()\n",
    "easypyplot.format.turn_off_box(fig_ax, twinx_axes=gc_ax)\n",
    "\n",
    "fig_h = []\n",
    "fig_h += easypyplot.barchart.draw(\n",
    "    fig_ax, fig_data_2darr,\n",
    "    width=fig_bar_width,\n",
    "    breakdown=False,\n",
    "    group_names=fig_xlabels,\n",
    "    xticks=fig_xticks,\n",
    "    xticklabelfontsize=fig_label_fontsize,\n",
    "    # xticklabelrotation=25, # Knob: rotated x tick labels\n",
    "    colors=fig_bar_colors)\n",
    "''' x axis '''\n",
    "fig_ax.xaxis.set_tick_params(pad=0) # Knob: distance between x tick label and x-axis\n",
    "fig_ax.set_xlim([fig_ax.get_xticks()[0] - 1, fig_ax.get_xticks()[-1] + 1])\n",
    "fig_ax.set_xticks(fig_xticks)\n",
    "fig_ax.set_xticklabels(fig_xlabels, fontsize=fig_label_fontsize, fontproperties=ft)\n",
    "fig_ax.xaxis.set_ticks_position('none') # Knob: uncomment for visible x ticks\n",
    "# ax.tick_params(direction='in') # Knob: [in, out, inout]\n",
    "# ax.set_xlabel(fig_title) # Knob: the overall x label text\n",
    "''' y axis '''\n",
    "fig_ax.yaxis.set_tick_params(pad=0) # Knob: distance between y tick label and y-axis\n",
    "# easypyplot.format.set_axis_to_percent(fig_ax.yaxis) # Uncomment for y axis tick label in xx% format\n",
    "fig_ax.yaxis.grid(True)\n",
    "fig_ax.set_ylim(fig_ylim)\n",
    "fig_ax.set_yticks(fig_yticks)\n",
    "fig_yticks_label = [\"{:.2f}\".format(item) for item in fig_yticks] # Change for customized y tick label text\n",
    "fig_ax.set_yticklabels(fig_yticks_label, fontproperties=ft)\n",
    "fig_ax.set_ylabel(fig_title, multialignment='center', fontproperties=ft)\n",
    "\n",
    "gc_xticks = []\n",
    "for i in range(len(workload_list)):\n",
    "    gc_itemxtick = [fig_xticks[i] - fig_bar_width / 3, fig_xticks[i], fig_xticks[i] + fig_bar_width / 3]\n",
    "    gc_xticks.append(gc_itemxtick)\n",
    "gc_h = []\n",
    "for group_id in range(len(workload_dict)):\n",
    "    gc_h += gc_ax.plot(gc_xticks[group_id], gc_data_2darr[group_id],\n",
    "                marker='*',\n",
    "                markersize=7,\n",
    "                linewidth = '1.0',\n",
    "                color='#000000',\n",
    "                )\n",
    "gc_ax.set_ylim((0, 15.01))\n",
    "gc_ax.set_yticks(list(np.arange(0, 15, 5.0)))\n",
    "\n",
    "\n",
    "''' legend '''\n",
    "legend = [scheme_dict[item] for item in scheme_dict]\n",
    "fig.legend(fig_h, legend, loc='upper center', frameon=False, prop=ft,\n",
    "        bbox_to_anchor=(0.5, 1.15),\n",
    "        ncol=2,\n",
    "        numpoints=1,\n",
    "        columnspacing=1.5, # padding between columns\n",
    "        labelspacing=0.5, # padding between rows\n",
    "        )\n",
    "fig.legend(gc_h, ['GC Times'], loc='upper center', frameon=False, prop=ft,\n",
    "        bbox_to_anchor=(0.75, 1.05),\n",
    "        ncol=3,\n",
    "        numpoints=1,\n",
    "        columnspacing=1.5, # padding between columns\n",
    "        labelspacing=0.5, # padding between rows\n",
    "        )\n",
    "\n",
    "''' last resize '''\n",
    "plt.tight_layout()\n",
    "easypyplot.format.resize_ax_box(fig_ax, hratio=0.8)"
   ]
  },
  {
   "cell_type": "code",
   "execution_count": 6,
   "metadata": {},
   "outputs": [],
   "source": [
    "''' Save figures'''\n",
    "fig.savefig(fig_path + fig_name+'.pdf', format=\"pdf\", bbox_inches = 'tight')\n",
    "# easypyplot.pdf.plot_teardown(pp) # BUG: it sometimes generates wierd chopped pdf figures\n",
    "# fig.savefig(fig_name+'.svg', format=\"svg\", bbox_inches = 'tight', transparent=False) # svg format"
   ]
  }
 ],
 "metadata": {
  "kernelspec": {
   "display_name": "Python 3",
   "language": "python",
   "name": "python3"
  },
  "language_info": {
   "codemirror_mode": {
    "name": "ipython",
    "version": 3
   },
   "file_extension": ".py",
   "mimetype": "text/x-python",
   "name": "python",
   "nbconvert_exporter": "python",
   "pygments_lexer": "ipython3",
   "version": "3.8.5"
  },
  "vscode": {
   "interpreter": {
    "hash": "9500a60ae47ddf778c75ed8f5c5589feb8456bc26627d78889e135849e54d69d"
   }
  }
 },
 "nbformat": 4,
 "nbformat_minor": 2
}
