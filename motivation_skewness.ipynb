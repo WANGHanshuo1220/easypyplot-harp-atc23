{
 "cells": [
  {
   "cell_type": "code",
   "execution_count": 120,
   "metadata": {},
   "outputs": [
    {
     "name": "stdout",
     "output_type": "stream",
     "text": [
      "The autoreload extension is already loaded. To reload it, use:\n",
      "  %reload_ext autoreload\n"
     ]
    }
   ],
   "source": [
    "''' Required packages. Use python3 -m pip install xxx for all the packages. '''\n",
    "from pprint import pprint\n",
    "import pandas as pd\n",
    "import numpy as np\n",
    "import matplotlib.font_manager as fm\n",
    "from matplotlib import pyplot as plt\n",
    "import easypyplot\n",
    "# Automatically update if external package code is modified\n",
    "%load_ext autoreload\n",
    "%autoreload 2"
   ]
  },
  {
   "cell_type": "code",
   "execution_count": 121,
   "metadata": {},
   "outputs": [
    {
     "name": "stdout",
     "output_type": "stream",
     "text": [
      "Expect 3 groups and 3 entries within each group\n"
     ]
    }
   ],
   "source": [
    "''' Plot knobs. Change only if you want to resize the graph, etc. '''\n",
    "fig_bar_width = 0.7\n",
    "fig_dims = (4, 2)\n",
    "fig_label_fontsize = 9\n",
    "ft = fm.FontProperties('Times New Roman')\n",
    "ft.set_size(fig_label_fontsize)\n",
    "\n",
    "''' [TODO] Figure properties. Specify the csv file and corresponding labels. '''\n",
    "csv_path = './sec2/motivation_skewness.csv'\n",
    "workload_list = ['4 KB', '16 KB', '64 KB']\n",
    "scheme_list = ['C0_RBBytes', 'C1_RBBytes', 'C2_RBBytes']\n",
    "workload_dict = {item: item for item in workload_list} # Change the mapping if you want a different figure label text instead of the csv column name\n",
    "\n",
    "scheme_dict = {item: item for item in scheme_list}\n",
    "scheme_dict['C0_RBBytes'] = 'Class 0'\n",
    "scheme_dict['C1_RBBytes'] = 'Class 1'\n",
    "scheme_dict['C2_RBBytes'] = 'Class 2'\n",
    "\n",
    "fig_title = '' # TODO: figure title, shown as y-axis label\n",
    "fig_path = './sec2/'\n",
    "fig_name = 'motivation_skewness'\n",
    "fig_ylim = (0, 1100)\n",
    "fig_yticks = list(np.arange(fig_ylim[0], fig_ylim[1], 200.0))\n",
    "fig_colors = [easypyplot.color.COLOR_SET[i] for i in [1, 0]] # TODO: choose enough colors for schemes\n",
    "fig_bar_colors = ['#8ac8cb', '#ee7228', '#c00000']\n",
    "assert len(fig_bar_colors) == len(scheme_dict)\n",
    "\n",
    "print(\"Expect {} groups and {} entries within each group\".format(len(workload_dict), len(scheme_dict)))"
   ]
  },
  {
   "cell_type": "code",
   "execution_count": 122,
   "metadata": {},
   "outputs": [
    {
     "name": "stdout",
     "output_type": "stream",
     "text": [
      "[[197.39, 541.78, 1013.99], [161.83, 326.56, 539.28], [103.5, 142.54, 167.09]]\n"
     ]
    }
   ],
   "source": [
    "''' Load data from file. '''\n",
    "csv_hd = pd.read_csv(csv_path, sep=',')\n",
    "# TODO assert workload_name\n",
    "# TODO assert scheme_name\n",
    "fig_xlabels = []\n",
    "fig_xticks = []\n",
    "fig_data_2darr = []\n",
    "xtick = -1\n",
    "for idx, row in csv_hd.iterrows():\n",
    "    workload_fullname = row[0]\n",
    "    if any(workload in workload_fullname for workload in workload_list):\n",
    "        row_value = []\n",
    "        for col in row.keys():\n",
    "            if any(scheme in col for scheme in scheme_dict):\n",
    "                row_value.append(row[col])\n",
    "        fig_data_2darr.append(row_value)\n",
    "        fig_xlabels.append(workload_fullname)\n",
    "        xtick += 1\n",
    "        fig_xticks.append(xtick)\n",
    "assert len(fig_data_2darr) == len(fig_xlabels) == len(fig_xticks)\n",
    "\n",
    "pprint(fig_data_2darr)"
   ]
  },
  {
   "cell_type": "code",
   "execution_count": 123,
   "metadata": {},
   "outputs": [
    {
     "name": "stdout",
     "output_type": "stream",
     "text": [
      "[[17.4933, 47.180409999999995, 227.5579],\n",
      " [4.18577, 11.96011, 49.813340000000004],\n",
      " [1.0, 3.016969, 12.40161]]\n"
     ]
    }
   ],
   "source": [
    "''' Load data from file. '''\n",
    "csv_hd = pd.read_csv(csv_path, sep=',')\n",
    "# TODO assert workload_name\n",
    "# TODO assert scheme_name\n",
    "gc_xlabels = []\n",
    "gc_xticks = []\n",
    "gc_data_2darr = []\n",
    "xtick = -1\n",
    "gc_workload_list = ['4 KB', '16 KB', '64 KB']\n",
    "gc_scheme_list = ['C0_GCRate', 'C1_GCRate', 'C2_GCRate']\n",
    "gc_workload_dict = {item: item for item in gc_workload_list}\n",
    "gc_scheme_dict = {item: item for item in gc_scheme_list}\n",
    "for idx, row in csv_hd.iterrows():\n",
    "    workload_fullname = row[0]\n",
    "    if any(workload in workload_fullname for workload in gc_workload_list):\n",
    "        row_value = []\n",
    "        for col in row.keys():\n",
    "            if any(scheme in col for scheme in gc_scheme_dict):\n",
    "                row_value.append(row[col])\n",
    "        gc_data_2darr.append(row_value)\n",
    "        gc_xlabels.append(workload_fullname)\n",
    "        xtick += 1\n",
    "        gc_xticks.append(xtick)\n",
    "assert len(gc_data_2darr) == len(gc_xlabels) == len(gc_xticks)\n",
    "\n",
    "pprint(gc_data_2darr)"
   ]
  },
  {
   "cell_type": "code",
   "execution_count": 124,
   "metadata": {},
   "outputs": [
    {
     "data": {
      "image/png": "[encoded data removed]",
      "text/plain": [
       "<Figure size 288x144 with 2 Axes>"
      ]
     },
     "metadata": {
      "needs_background": "light"
     },
     "output_type": "display_data"
    }
   ],
   "source": [
    "''' Ploting script '''\n",
    "pp, fig = easypyplot.pdf.plot_setup(fig_name, fig_dims)\n",
    "\n",
    "\n",
    "fig_ax = fig.add_subplot(122) # Knob: plot the first subgraph of a 1x1 grid, i.e., no subplot mode\n",
    "easypyplot.format.turn_off_box(fig_ax)\n",
    "\n",
    "fig_h = []\n",
    "fig_h += easypyplot.barchart.draw(\n",
    "    fig_ax, fig_data_2darr,\n",
    "    width=fig_bar_width,\n",
    "    breakdown=False,\n",
    "    group_names=fig_xlabels,\n",
    "    xticks=fig_xticks,\n",
    "    xticklabelfontsize=fig_label_fontsize,\n",
    "    # xticklabelrotation=25, # Knob: rotated x tick labels\n",
    "    colors=fig_bar_colors)\n",
    "''' x axis '''\n",
    "fig_ax.xaxis.set_tick_params(pad=0) # Knob: distance between x tick label and x-axis\n",
    "fig_ax.set_xlim([fig_ax.get_xticks()[0] - 1, fig_ax.get_xticks()[-1] + 1])\n",
    "fig_ax.set_xticks(fig_xticks)\n",
    "fig_ax.set_xticklabels(fig_xlabels, fontsize=fig_label_fontsize, fontproperties=ft)\n",
    "fig_ax.xaxis.set_ticks_position('none') # Knob: uncomment for visible x ticks\n",
    "# ax.tick_params(direction='in') # Knob: [in, out, inout]\n",
    "# ax.set_xlabel(fig_title) # Knob: the overall x label text\n",
    "''' y axis '''\n",
    "fig_ax.yaxis.set_tick_params(pad=0) # Knob: distance between y tick label and y-axis\n",
    "# easypyplot.format.set_axis_to_percent(fig_ax.yaxis) # Uncomment for y axis tick label in xx% format\n",
    "fig_ax.yaxis.grid(True)\n",
    "fig_ax.set_ylim(fig_ylim)\n",
    "fig_ax.set_yticks(fig_yticks)\n",
    "fig_yticks_label = [\"{:d}\".format(int(item)) for item in fig_yticks] # Change for customized y tick label text\n",
    "fig_ax.set_yticklabels(fig_yticks_label, fontproperties=ft)\n",
    "fig_ax.set_ylabel('Stale Tail Size (MB)', multialignment='center', fontproperties=ft)\n",
    "fig_ax.set_xlabel('(b)')\n",
    "\n",
    "\n",
    "''' legend '''\n",
    "legend = [scheme_dict[item] for item in scheme_dict]\n",
    "fig.legend(fig_h, legend, loc='upper center', frameon=False, prop=ft,\n",
    "        bbox_to_anchor=(0.5, 1.05),\n",
    "        ncol=3,\n",
    "        numpoints=1,\n",
    "        columnspacing=1, # padding between columns\n",
    "        labelspacing=0.5, # padding between rows\n",
    "        )\n",
    "\n",
    "''' number of GC '''\n",
    "gc_ax = fig.add_subplot(121)\n",
    "easypyplot.format.turn_off_box(gc_ax)\n",
    "''' x axis '''\n",
    "gc_ax.xaxis.set_tick_params(pad=0) # Knob: distance between x tick label and x-axis\n",
    "gc_ax.set_xticks(fig_xticks)\n",
    "gc_ax.set_xticklabels(gc_xlabels, fontsize=fig_label_fontsize, fontproperties=ft)\n",
    "gc_ax.set_xlim([gc_ax.get_xticks()[0] - 1, gc_ax.get_xticks()[-1] + 1])\n",
    "gc_ax.xaxis.set_ticks_position('none') # Knob: uncomment for visible x ticks\n",
    "''' y axis '''\n",
    "gc_ax.yaxis.set_tick_params(pad=0) # Knob: distance between y tick label and y-axis\n",
    "gc_ax.yaxis.grid(True)\n",
    "gc_ylim = (0, 250.01)\n",
    "gc_ax.set_ylim(gc_ylim)\n",
    "gc_ax.set_yticks(list(np.arange(gc_ylim[0], gc_ylim[1], 50.0)))\n",
    "gc_ax.set_ylabel('Normalized Number of GC')\n",
    "gc_h = []\n",
    "gc_data_nparr = np.array(gc_data_2darr)\n",
    "for group_id in range(len(workload_dict)):\n",
    "    gc_h += gc_ax.plot(fig_xticks, gc_data_nparr[:, group_id],\n",
    "                marker='*',\n",
    "                markersize=7,\n",
    "                linewidth = '1.0',\n",
    "                color=fig_bar_colors[group_id],\n",
    "                )\n",
    "gc_ax.set_xlabel('(a)')\n",
    "# fig.legend([gc_h[0]], ['Number of GC'], loc='upper center', frameon=False, prop=ft,\n",
    "#         bbox_to_anchor=(0.3, 1.05),\n",
    "#         ncol=3,\n",
    "#         numpoints=1,\n",
    "#         columnspacing=1.5, # padding between columns\n",
    "#         labelspacing=0.5, # padding between rows\n",
    "#         )\n",
    "\n",
    "''' last resize '''\n",
    "plt.tight_layout()\n",
    "easypyplot.format.resize_ax_box(fig_ax, hratio=0.8)\n",
    "easypyplot.format.resize_ax_box(gc_ax, hratio=0.8)"
   ]
  },
  {
   "cell_type": "code",
   "execution_count": 125,
   "metadata": {},
   "outputs": [],
   "source": [
    "''' Save figures'''\n",
    "fig.savefig(fig_path + fig_name+'.pdf', format=\"pdf\", bbox_inches = 'tight')\n",
    "# easypyplot.pdf.plot_teardown(pp) # BUG: it sometimes generates wierd chopped pdf figures\n",
    "# fig.savefig(fig_name+'.svg', format=\"svg\", bbox_inches = 'tight', transparent=False) # svg format"
   ]
  }
 ],
 "metadata": {
  "kernelspec": {
   "display_name": "Python 3",
   "language": "python",
   "name": "python3"
  },
  "language_info": {
   "codemirror_mode": {
    "name": "ipython",
    "version": 3
   },
   "file_extension": ".py",
   "mimetype": "text/x-python",
   "name": "python",
   "nbconvert_exporter": "python",
   "pygments_lexer": "ipython3",
   "version": "3.8.5"
  },
  "vscode": {
   "interpreter": {
    "hash": "9500a60ae47ddf778c75ed8f5c5589feb8456bc26627d78889e135849e54d69d"
   }
  }
 },
 "nbformat": 4,
 "nbformat_minor": 2
}
