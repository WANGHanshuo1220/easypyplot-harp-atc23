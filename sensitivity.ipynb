{
    "cells": [
        {
            "cell_type": "code",
            "execution_count": 6,
            "metadata": {},
            "outputs": [],
            "source": [
                "''' Required packages. Use python3 -m pip install xxx for all the packages. '''\n",
                "from pprint import pprint\n",
                "import pandas as pd\n",
                "import numpy as np\n",
                "import matplotlib.font_manager as fm\n",
                "from matplotlib import pyplot as plt\n",
                "import easypyplot"
            ]
        },
        {
            "cell_type": "code",
            "execution_count": 7,
            "metadata": {},
            "outputs": [],
            "source": [
                "''' Plot parameters. Change only if you want to resize the graph, etc. '''\n",
                "fig_bar_width = 1\n",
                "fig_dims = (5, 4)\n",
                "fig_label_fontsize = 10\n",
                "ft = fm.FontProperties('Times New Roman')\n",
                "ft.set_size(10.0)\n",
                "\n",
                "fig_name = 'graph_sensitivity'"
            ]
        },
        {
            "cell_type": "code",
            "execution_count": 8,
            "metadata": {},
            "outputs": [
                {
                    "name": "stdout",
                    "output_type": "stream",
                    "text": [
                        "[[0.78, 1.0, 1.1], [0.93, 1.0, 1.038], [0.828, 1.0, 1.06], [0.9961, 1.0, 1.03]]\n",
                        "[[0.682, 0.7809999999999999, 0.8140000000000001],\n",
                        " [0.6524, 0.7140000000000001, 0.78225],\n",
                        " [0.5869, 0.708, 0.7225],\n",
                        " [0.6287, 0.751875, 0.7829999999999999]]\n"
                    ]
                }
            ],
            "source": [
                "''' Stage Size: Load data from file. '''\n",
                "csv_path = './sec7/stagesize.csv'\n",
                "workload_list = ['mix1', 'mix2', 'mix3', 'mix4']\n",
                "scheme_list = ['32MB Performance', '64MB Performance', '128MB Performance']\n",
                "workload_dict = {item: item for item in workload_list}\n",
                "stagesize_scheme_dict = {\n",
                "    '32MB Performance': '32 MB',\n",
                "    '64MB Performance': 'Baryon (64 MB)',\n",
                "    '128MB Performance': '128 MB'\n",
                "    }\n",
                "\n",
                "stagesize_title = 'Norm. Performance'\n",
                "fig_name = 'GC breakdown'\n",
                "fig_path = './4.2.2/'\n",
                "stagesize_ylim = (0, 1.6)\n",
                "stagesize_yticks = list(np.arange(stagesize_ylim[0], stagesize_ylim[1]+0.01, 0.2))\n",
                "stagesize_bar_colors = [easypyplot.color.COLOR_SET[i] for i in [4, 0, 5]]\n",
                "assert len(stagesize_bar_colors) == len(stagesize_scheme_dict)\n",
                "\n",
                "# pprint(stagesize_yticks)\n",
                "csv_hd = pd.read_csv(csv_path, sep=',')\n",
                "stagesize_xlabels = []\n",
                "stagesize_xticks = []\n",
                "stagesize_data_2darr = []\n",
                "xtick = -1\n",
                "for idx, row in csv_hd.iterrows():\n",
                "    workload_fullname = row[0]\n",
                "    if any(workload in workload_fullname for workload in workload_list):\n",
                "        row_value = []\n",
                "        for col in row.keys():\n",
                "            if any(scheme in col for scheme in stagesize_scheme_dict):\n",
                "                row_value.append(row[col])\n",
                "        stagesize_data_2darr.append(row_value)\n",
                "        stagesize_xlabels.append(workload_fullname)\n",
                "        xtick += 1\n",
                "        stagesize_xticks.append(xtick)\n",
                "assert len(stagesize_data_2darr) == len(stagesize_xlabels) == len(stagesize_xticks)\n",
                "\n",
                "pprint(stagesize_data_2darr)\n",
                "\n",
                "''' Layout hit rate '''\n",
                "layout_scheme_list = ['32MB Layout', '64MB Layout', '128MB Layout']\n",
                "layout_scheme_dict = {\n",
                "    '32MB Layout': '32 MB Layout Hit Rate',\n",
                "    '64MB Layout': 'Baryon 64 MB Layout Hit Rate',\n",
                "    '128MB Layout': '128 MB Layout Hit Rate'\n",
                "}\n",
                "csv_hd = pd.read_csv(csv_path, sep=',')\n",
                "layout_xlabels = []\n",
                "layout_xticks = []\n",
                "layout_data_2darr = []\n",
                "xtick = -1\n",
                "for idx, row in csv_hd.iterrows():\n",
                "    workload_fullname = row[0]\n",
                "    if any(workload in workload_fullname for workload in workload_list):\n",
                "        row_value = []\n",
                "        for col in row.keys():\n",
                "            if any(scheme in col for scheme in layout_scheme_dict):\n",
                "                row_value.append(row[col])\n",
                "        layout_data_2darr.append(row_value)\n",
                "        layout_xlabels.append(workload_fullname)\n",
                "        xtick += 1\n",
                "        layout_xticks.append(xtick)\n",
                "assert len(layout_data_2darr) == len(layout_xlabels) == len(layout_xticks)\n",
                "\n",
                "pprint(layout_data_2darr)"
            ]
        },
        {
            "cell_type": "code",
            "execution_count": 9,
            "metadata": {},
            "outputs": [
                {
                    "name": "stdout",
                    "output_type": "stream",
                    "text": [
                        "[-0.16666666666666666, 0, 0.16666666666666666]\n",
                        "[0.8333333333333334, 1, 1.1666666666666667]\n",
                        "[1.8333333333333333, 2, 2.1666666666666665]\n",
                        "[2.8333333333333335, 3, 3.1666666666666665]\n"
                    ]
                },
                {
                    "ename": "NameError",
                    "evalue": "name 'repl_ax' is not defined",
                    "output_type": "error",
                    "traceback": [
                        "\u001b[0;31m---------------------------------------------------------------------------\u001b[0m",
                        "\u001b[0;31mNameError\u001b[0m                                 Traceback (most recent call last)",
                        "\u001b[0;32m<ipython-input-9-bb9dda38568d>\u001b[0m in \u001b[0;36m<module>\u001b[0;34m\u001b[0m\n\u001b[1;32m     50\u001b[0m \u001b[0;31m# # fig.subplots_adjust(hspace=1)\u001b[0m\u001b[0;34m\u001b[0m\u001b[0;34m\u001b[0m\u001b[0;34m\u001b[0m\u001b[0m\n\u001b[1;32m     51\u001b[0m \u001b[0mplt\u001b[0m\u001b[0;34m.\u001b[0m\u001b[0mtight_layout\u001b[0m\u001b[0;34m(\u001b[0m\u001b[0mw_pad\u001b[0m\u001b[0;34m=\u001b[0m\u001b[0;36m1.5\u001b[0m\u001b[0;34m,\u001b[0m \u001b[0mh_pad\u001b[0m\u001b[0;34m=\u001b[0m\u001b[0;36m2.75\u001b[0m\u001b[0;34m)\u001b[0m\u001b[0;34m\u001b[0m\u001b[0;34m\u001b[0m\u001b[0m\n\u001b[0;32m---> 52\u001b[0;31m \u001b[0measypyplot\u001b[0m\u001b[0;34m.\u001b[0m\u001b[0mformat\u001b[0m\u001b[0;34m.\u001b[0m\u001b[0mresize_ax_box\u001b[0m\u001b[0;34m(\u001b[0m\u001b[0mrepl_ax\u001b[0m\u001b[0;34m,\u001b[0m \u001b[0mhratio\u001b[0m\u001b[0;34m=\u001b[0m\u001b[0;36m0.8\u001b[0m\u001b[0;34m)\u001b[0m\u001b[0;34m\u001b[0m\u001b[0;34m\u001b[0m\u001b[0m\n\u001b[0m\u001b[1;32m     53\u001b[0m \u001b[0measypyplot\u001b[0m\u001b[0;34m.\u001b[0m\u001b[0mformat\u001b[0m\u001b[0;34m.\u001b[0m\u001b[0mresize_ax_box\u001b[0m\u001b[0;34m(\u001b[0m\u001b[0msbsize_ax\u001b[0m\u001b[0;34m,\u001b[0m \u001b[0mhratio\u001b[0m\u001b[0;34m=\u001b[0m\u001b[0;36m0.8\u001b[0m\u001b[0;34m)\u001b[0m\u001b[0;34m\u001b[0m\u001b[0;34m\u001b[0m\u001b[0m\n\u001b[1;32m     54\u001b[0m \u001b[0measypyplot\u001b[0m\u001b[0;34m.\u001b[0m\u001b[0mformat\u001b[0m\u001b[0;34m.\u001b[0m\u001b[0mresize_ax_box\u001b[0m\u001b[0;34m(\u001b[0m\u001b[0mstagesize_ax\u001b[0m\u001b[0;34m,\u001b[0m \u001b[0mhratio\u001b[0m\u001b[0;34m=\u001b[0m\u001b[0;36m0.8\u001b[0m\u001b[0;34m)\u001b[0m\u001b[0;34m\u001b[0m\u001b[0;34m\u001b[0m\u001b[0m\n",
                        "\u001b[0;31mNameError\u001b[0m: name 'repl_ax' is not defined"
                    ]
                },
                {
                    "data": {
                        "image/png": "[encoded data removed]",
                        "text/plain": [
                            "<Figure size 360x288 with 2 Axes>"
                        ]
                    },
                    "metadata": {
                        "needs_background": "light"
                    },
                    "output_type": "display_data"
                }
            ],
            "source": [
                "''' stage size plot '''\n",
                "pp, fig = easypyplot.pdf.plot_setup(fig_name, fig_dims)\n",
                "stagesize_ax = fig.add_subplot(1 ,1 ,1)\n",
                "stagesize_ax2 = stagesize_ax.twinx()\n",
                "easypyplot.format.turn_off_box(stagesize_ax, twinx_axes=stagesize_ax2)\n",
                "stagesize_h = easypyplot.barchart.draw(\n",
                "    stagesize_ax, stagesize_data_2darr,\n",
                "    width=fig_bar_width,\n",
                "    breakdown=False,\n",
                "    group_names=stagesize_xlabels,\n",
                "    xticks=stagesize_xticks,\n",
                "    xticklabelfontsize=fig_label_fontsize,\n",
                "    xticklabelrotation=0,\n",
                "    # prop=ft,\n",
                "    colors=stagesize_bar_colors)\n",
                "stagesize_h2 = []\n",
                "# easypyplot.format.turn_off_box(ax2)\n",
                "for group_id in range(len(workload_dict)):\n",
                "    # layout_xticks = list(np.arange(fig_xticks[group_id] - 1/3))\n",
                "    gap = 1./3 - 1.0 * fig_bar_width / 6\n",
                "    layout_xticks = [stagesize_xticks[group_id] - gap, stagesize_xticks[group_id], stagesize_xticks[group_id] + gap]\n",
                "    print(layout_xticks)\n",
                "    stagesize_h2 += stagesize_ax2.plot(layout_xticks, layout_data_2darr[group_id],\n",
                "                marker='*',\n",
                "                linewidth = '1.0',\n",
                "                color = '#000000',\n",
                "                markersize = '7.0',\n",
                "                # prop = ft\n",
                "                )\n",
                "''' x axis '''\n",
                "stagesize_ax.set_xlim([stagesize_ax.get_xticks()[0] - 1, stagesize_ax.get_xticks()[-1] + 1])\n",
                "stagesize_ax.set_xticks(stagesize_xticks)\n",
                "stagesize_ax.set_xticklabels(stagesize_xlabels, fontsize=fig_label_fontsize, fontproperties=ft)\n",
                "stagesize_ax.xaxis.set_ticks_position('none') # Comment this and the next line for visible ticks\n",
                "# stagesize_ax.tick_params(direction='in') # [in, out, inout]\n",
                "stagesize_ax.set_xlabel('(c) Stage Area Size', fontproperties=ft)\n",
                "''' y axis '''\n",
                "stagesize_ax.yaxis.grid(True)\n",
                "stagesize_ax.set_ylim(stagesize_ylim)\n",
                "stagesize_ax.set_yticks(stagesize_yticks)\n",
                "stagesize_ax.set_ylabel(stagesize_title, multialignment='center', fontproperties=ft)\n",
                "stagesize_ax2.set_ylim([0., 1.])\n",
                "stagesize_ax2.set_ylabel('Committed Block Hit Rate', multialignment='center', fontproperties=ft)\n",
                "''' legend '''\n",
                "legend = [stagesize_scheme_dict[item] for item in stagesize_scheme_dict]\n",
                "fig.legend(stagesize_h, legend, loc='right', bbox_to_anchor=(0, 1),\n",
                "        ncol=1, frameon=False, prop=ft, columnspacing=0.3, labelspacing=0)\n",
                "\n",
                "# ''' last resize '''\n",
                "# # fig.subplots_adjust(hspace=1)\n",
                "plt.tight_layout(w_pad=1.5, h_pad=2.75)\n",
                "# easypyplot.format.resize_ax_box(repl_ax, hratio=0.8)\n",
                "# easypyplot.format.resize_ax_box(sbsize_ax, hratio=0.8)\n",
                "# easypyplot.format.resize_ax_box(stagesize_ax, hratio=0.8)\n",
                "# easypyplot.format.resize_ax_box(cfr_ax, hratio=0.8)\n"
            ]
        },
        {
            "cell_type": "code",
            "execution_count": null,
            "metadata": {},
            "outputs": [],
            "source": [
                "''' Save figures'''\n",
                "fig.savefig(fig_path + fig_name+'.pdf', format=\"pdf\", bbox_inches = 'tight')\n",
                "# easypyplot.pdf.plot_teardown(pp) # it generates wierd chopped figures"
            ]
        }
    ],
    "metadata": {
        "kernelspec": {
            "display_name": "Python 3",
            "language": "python",
            "name": "python3"
        },
        "language_info": {
            "codemirror_mode": {
                "name": "ipython",
                "version": 3
            },
            "file_extension": ".py",
            "mimetype": "text/x-python",
            "name": "python",
            "nbconvert_exporter": "python",
            "pygments_lexer": "ipython3",
            "version": "3.6.9"
        },
        "orig_nbformat": 4,
        "vscode": {
            "interpreter": {
                "hash": "767d51c1340bd893661ea55ea3124f6de3c7a262a8b4abca0554b478b1e2ff90"
            }
        }
    },
    "nbformat": 4,
    "nbformat_minor": 2
}
